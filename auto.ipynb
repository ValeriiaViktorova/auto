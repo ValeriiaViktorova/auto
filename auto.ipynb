{
 "cells": [
  {
   "cell_type": "markdown",
   "metadata": {},
   "source": [
    "# Определение стоимости автомобилей"
   ]
  },
  {
   "cell_type": "markdown",
   "metadata": {},
   "source": [
    "Сервис по продаже автомобилей с пробегом «Не бит, не крашен» разрабатывает приложение для привлечения новых клиентов. В нём можно быстро узнать рыночную стоимость своего автомобиля. В вашем распоряжении исторические данные: технические характеристики, комплектации и цены автомобилей. Вам нужно построить модель для определения стоимости. \n",
    "\n",
    "Заказчику важны:\n",
    "\n",
    "- качество предсказания;\n",
    "- скорость предсказания;\n",
    "- время обучения."
   ]
  },
  {
   "cell_type": "markdown",
   "metadata": {},
   "source": [
    "## Подготовка данных"
   ]
  },
  {
   "cell_type": "code",
   "execution_count": 1,
   "metadata": {},
   "outputs": [],
   "source": [
    "import time\n",
    "import pandas as pd\n",
    "import matplotlib.pyplot as plt\n",
    "from sklearn.model_selection import train_test_split\n",
    "from sklearn.metrics import mean_squared_error\n",
    "from sklearn.model_selection import GridSearchCV\n",
    "from sklearn.linear_model import LinearRegression\n",
    "from sklearn.preprocessing import OrdinalEncoder\n",
    "from sklearn.tree import DecisionTreeRegressor\n",
    "from catboost import CatBoostRegressor\n",
    "from lightgbm import LGBMRegressor"
   ]
  },
  {
   "cell_type": "markdown",
   "metadata": {},
   "source": [
    "**Загрузим данные**"
   ]
  },
  {
   "cell_type": "code",
   "execution_count": 2,
   "metadata": {},
   "outputs": [],
   "source": [
    "data = pd.read_csv('/datasets/autos.csv')"
   ]
  },
  {
   "cell_type": "code",
   "execution_count": 3,
   "metadata": {},
   "outputs": [
    {
     "data": {
      "text/html": [
       "<div>\n",
       "<style scoped>\n",
       "    .dataframe tbody tr th:only-of-type {\n",
       "        vertical-align: middle;\n",
       "    }\n",
       "\n",
       "    .dataframe tbody tr th {\n",
       "        vertical-align: top;\n",
       "    }\n",
       "\n",
       "    .dataframe thead th {\n",
       "        text-align: right;\n",
       "    }\n",
       "</style>\n",
       "<table border=\"1\" class=\"dataframe\">\n",
       "  <thead>\n",
       "    <tr style=\"text-align: right;\">\n",
       "      <th></th>\n",
       "      <th>DateCrawled</th>\n",
       "      <th>Price</th>\n",
       "      <th>VehicleType</th>\n",
       "      <th>RegistrationYear</th>\n",
       "      <th>Gearbox</th>\n",
       "      <th>Power</th>\n",
       "      <th>Model</th>\n",
       "      <th>Kilometer</th>\n",
       "      <th>RegistrationMonth</th>\n",
       "      <th>FuelType</th>\n",
       "      <th>Brand</th>\n",
       "      <th>NotRepaired</th>\n",
       "      <th>DateCreated</th>\n",
       "      <th>NumberOfPictures</th>\n",
       "      <th>PostalCode</th>\n",
       "      <th>LastSeen</th>\n",
       "    </tr>\n",
       "  </thead>\n",
       "  <tbody>\n",
       "    <tr>\n",
       "      <th>0</th>\n",
       "      <td>2016-03-24 11:52:17</td>\n",
       "      <td>480</td>\n",
       "      <td>NaN</td>\n",
       "      <td>1993</td>\n",
       "      <td>manual</td>\n",
       "      <td>0</td>\n",
       "      <td>golf</td>\n",
       "      <td>150000</td>\n",
       "      <td>0</td>\n",
       "      <td>petrol</td>\n",
       "      <td>volkswagen</td>\n",
       "      <td>NaN</td>\n",
       "      <td>2016-03-24 00:00:00</td>\n",
       "      <td>0</td>\n",
       "      <td>70435</td>\n",
       "      <td>2016-04-07 03:16:57</td>\n",
       "    </tr>\n",
       "    <tr>\n",
       "      <th>1</th>\n",
       "      <td>2016-03-24 10:58:45</td>\n",
       "      <td>18300</td>\n",
       "      <td>coupe</td>\n",
       "      <td>2011</td>\n",
       "      <td>manual</td>\n",
       "      <td>190</td>\n",
       "      <td>NaN</td>\n",
       "      <td>125000</td>\n",
       "      <td>5</td>\n",
       "      <td>gasoline</td>\n",
       "      <td>audi</td>\n",
       "      <td>yes</td>\n",
       "      <td>2016-03-24 00:00:00</td>\n",
       "      <td>0</td>\n",
       "      <td>66954</td>\n",
       "      <td>2016-04-07 01:46:50</td>\n",
       "    </tr>\n",
       "    <tr>\n",
       "      <th>2</th>\n",
       "      <td>2016-03-14 12:52:21</td>\n",
       "      <td>9800</td>\n",
       "      <td>suv</td>\n",
       "      <td>2004</td>\n",
       "      <td>auto</td>\n",
       "      <td>163</td>\n",
       "      <td>grand</td>\n",
       "      <td>125000</td>\n",
       "      <td>8</td>\n",
       "      <td>gasoline</td>\n",
       "      <td>jeep</td>\n",
       "      <td>NaN</td>\n",
       "      <td>2016-03-14 00:00:00</td>\n",
       "      <td>0</td>\n",
       "      <td>90480</td>\n",
       "      <td>2016-04-05 12:47:46</td>\n",
       "    </tr>\n",
       "    <tr>\n",
       "      <th>3</th>\n",
       "      <td>2016-03-17 16:54:04</td>\n",
       "      <td>1500</td>\n",
       "      <td>small</td>\n",
       "      <td>2001</td>\n",
       "      <td>manual</td>\n",
       "      <td>75</td>\n",
       "      <td>golf</td>\n",
       "      <td>150000</td>\n",
       "      <td>6</td>\n",
       "      <td>petrol</td>\n",
       "      <td>volkswagen</td>\n",
       "      <td>no</td>\n",
       "      <td>2016-03-17 00:00:00</td>\n",
       "      <td>0</td>\n",
       "      <td>91074</td>\n",
       "      <td>2016-03-17 17:40:17</td>\n",
       "    </tr>\n",
       "    <tr>\n",
       "      <th>4</th>\n",
       "      <td>2016-03-31 17:25:20</td>\n",
       "      <td>3600</td>\n",
       "      <td>small</td>\n",
       "      <td>2008</td>\n",
       "      <td>manual</td>\n",
       "      <td>69</td>\n",
       "      <td>fabia</td>\n",
       "      <td>90000</td>\n",
       "      <td>7</td>\n",
       "      <td>gasoline</td>\n",
       "      <td>skoda</td>\n",
       "      <td>no</td>\n",
       "      <td>2016-03-31 00:00:00</td>\n",
       "      <td>0</td>\n",
       "      <td>60437</td>\n",
       "      <td>2016-04-06 10:17:21</td>\n",
       "    </tr>\n",
       "  </tbody>\n",
       "</table>\n",
       "</div>"
      ],
      "text/plain": [
       "           DateCrawled  Price VehicleType  RegistrationYear Gearbox  Power  \\\n",
       "0  2016-03-24 11:52:17    480         NaN              1993  manual      0   \n",
       "1  2016-03-24 10:58:45  18300       coupe              2011  manual    190   \n",
       "2  2016-03-14 12:52:21   9800         suv              2004    auto    163   \n",
       "3  2016-03-17 16:54:04   1500       small              2001  manual     75   \n",
       "4  2016-03-31 17:25:20   3600       small              2008  manual     69   \n",
       "\n",
       "   Model  Kilometer  RegistrationMonth  FuelType       Brand NotRepaired  \\\n",
       "0   golf     150000                  0    petrol  volkswagen         NaN   \n",
       "1    NaN     125000                  5  gasoline        audi         yes   \n",
       "2  grand     125000                  8  gasoline        jeep         NaN   \n",
       "3   golf     150000                  6    petrol  volkswagen          no   \n",
       "4  fabia      90000                  7  gasoline       skoda          no   \n",
       "\n",
       "           DateCreated  NumberOfPictures  PostalCode             LastSeen  \n",
       "0  2016-03-24 00:00:00                 0       70435  2016-04-07 03:16:57  \n",
       "1  2016-03-24 00:00:00                 0       66954  2016-04-07 01:46:50  \n",
       "2  2016-03-14 00:00:00                 0       90480  2016-04-05 12:47:46  \n",
       "3  2016-03-17 00:00:00                 0       91074  2016-03-17 17:40:17  \n",
       "4  2016-03-31 00:00:00                 0       60437  2016-04-06 10:17:21  "
      ]
     },
     "execution_count": 3,
     "metadata": {},
     "output_type": "execute_result"
    }
   ],
   "source": [
    "data.head()"
   ]
  },
  {
   "cell_type": "markdown",
   "metadata": {},
   "source": [
    "**Изучим информацию о данных**"
   ]
  },
  {
   "cell_type": "code",
   "execution_count": 4,
   "metadata": {},
   "outputs": [
    {
     "name": "stdout",
     "output_type": "stream",
     "text": [
      "<class 'pandas.core.frame.DataFrame'>\n",
      "RangeIndex: 354369 entries, 0 to 354368\n",
      "Data columns (total 16 columns):\n",
      " #   Column             Non-Null Count   Dtype \n",
      "---  ------             --------------   ----- \n",
      " 0   DateCrawled        354369 non-null  object\n",
      " 1   Price              354369 non-null  int64 \n",
      " 2   VehicleType        316879 non-null  object\n",
      " 3   RegistrationYear   354369 non-null  int64 \n",
      " 4   Gearbox            334536 non-null  object\n",
      " 5   Power              354369 non-null  int64 \n",
      " 6   Model              334664 non-null  object\n",
      " 7   Kilometer          354369 non-null  int64 \n",
      " 8   RegistrationMonth  354369 non-null  int64 \n",
      " 9   FuelType           321474 non-null  object\n",
      " 10  Brand              354369 non-null  object\n",
      " 11  NotRepaired        283215 non-null  object\n",
      " 12  DateCreated        354369 non-null  object\n",
      " 13  NumberOfPictures   354369 non-null  int64 \n",
      " 14  PostalCode         354369 non-null  int64 \n",
      " 15  LastSeen           354369 non-null  object\n",
      "dtypes: int64(7), object(9)\n",
      "memory usage: 43.3+ MB\n"
     ]
    }
   ],
   "source": [
    "data.info()"
   ]
  },
  {
   "cell_type": "markdown",
   "metadata": {},
   "source": [
    "\n",
    "**Признаки:**\n",
    "\n",
    "DateCrawled — дата скачивания анкеты из базы\n",
    "\n",
    "VehicleType — тип автомобильного кузова\n",
    "\n",
    "RegistrationYear — год регистрации автомобиля\n",
    "\n",
    "Gearbox — тип коробки передач\n",
    "\n",
    "Power — мощность (л. с.)\n",
    "\n",
    "Model — модель автомобиля\n",
    "\n",
    "Kilometer — пробег (км)\n",
    "\n",
    "RegistrationMonth — месяц регистрации автомобиля\n",
    "\n",
    "FuelType — тип топлива\n",
    "\n",
    "Brand — марка автомобиля\n",
    "\n",
    "NotRepaired — была машина в ремонте или нет\n",
    "\n",
    "DateCreated — дата создания анкеты\n",
    "\n",
    "NumberOfPictures — количество фотографий автомобиля\n",
    "\n",
    "PostalCode — почтовый индекс владельца анкеты (пользователя)\n",
    "\n",
    "LastSeen — дата последней активности пользователя\n",
    "\n",
    "**Целевой признак:**\n",
    "\n",
    "Price - цена"
   ]
  },
  {
   "cell_type": "code",
   "execution_count": 5,
   "metadata": {},
   "outputs": [],
   "source": [
    "#меняем тип данных для признаков даты\n",
    "list_date_columns = ['DateCrawled', 'DateCreated', 'LastSeen']\n",
    "for clm in list_date_columns:\n",
    "    data.loc[:, clm] = pd.to_datetime(data[clm].astype(str), format='%Y-%m-%d %H:%M:%S')"
   ]
  },
  {
   "cell_type": "markdown",
   "metadata": {},
   "source": [
    "**Обработка пропусков**"
   ]
  },
  {
   "cell_type": "code",
   "execution_count": 6,
   "metadata": {},
   "outputs": [
    {
     "name": "stdout",
     "output_type": "stream",
     "text": [
      "Признаки c пропущенными значениями: VehicleType Gearbox Model FuelType NotRepaired\n"
     ]
    }
   ],
   "source": [
    "null_features = []\n",
    "for col in data.columns:\n",
    "    if data[col].isna().values.any():\n",
    "        null_features.append(col)\n",
    "\n",
    "print(\"Признаки c пропущенными значениями:\", *null_features)"
   ]
  },
  {
   "cell_type": "code",
   "execution_count": 7,
   "metadata": {},
   "outputs": [
    {
     "data": {
      "text/html": [
       "<div>\n",
       "<style scoped>\n",
       "    .dataframe tbody tr th:only-of-type {\n",
       "        vertical-align: middle;\n",
       "    }\n",
       "\n",
       "    .dataframe tbody tr th {\n",
       "        vertical-align: top;\n",
       "    }\n",
       "\n",
       "    .dataframe thead th {\n",
       "        text-align: right;\n",
       "    }\n",
       "</style>\n",
       "<table border=\"1\" class=\"dataframe\">\n",
       "  <thead>\n",
       "    <tr style=\"text-align: right;\">\n",
       "      <th></th>\n",
       "      <th>count</th>\n",
       "      <th>percent</th>\n",
       "    </tr>\n",
       "  </thead>\n",
       "  <tbody>\n",
       "    <tr>\n",
       "      <th>NotRepaired</th>\n",
       "      <td>71154</td>\n",
       "      <td>20.08</td>\n",
       "    </tr>\n",
       "    <tr>\n",
       "      <th>VehicleType</th>\n",
       "      <td>37490</td>\n",
       "      <td>10.58</td>\n",
       "    </tr>\n",
       "    <tr>\n",
       "      <th>FuelType</th>\n",
       "      <td>32895</td>\n",
       "      <td>9.28</td>\n",
       "    </tr>\n",
       "    <tr>\n",
       "      <th>Gearbox</th>\n",
       "      <td>19833</td>\n",
       "      <td>5.60</td>\n",
       "    </tr>\n",
       "    <tr>\n",
       "      <th>Model</th>\n",
       "      <td>19705</td>\n",
       "      <td>5.56</td>\n",
       "    </tr>\n",
       "  </tbody>\n",
       "</table>\n",
       "</div>"
      ],
      "text/plain": [
       "             count  percent\n",
       "NotRepaired  71154    20.08\n",
       "VehicleType  37490    10.58\n",
       "FuelType     32895     9.28\n",
       "Gearbox      19833     5.60\n",
       "Model        19705     5.56"
      ]
     },
     "execution_count": 7,
     "metadata": {},
     "output_type": "execute_result"
    }
   ],
   "source": [
    "#Посмотрим количество пропущенных значений в выявленных признаках\n",
    "count = []\n",
    "percent = []\n",
    "for col in null_features:\n",
    "    count.append(data[col].isna().sum())\n",
    "    percent.append((count[-1] / data.shape[0])*100)\n",
    "    \n",
    "null_values_df = pd.DataFrame(data={'count':count, 'percent':[p.round(2) for p in percent]}, index=null_features)\n",
    "null_values_df.sort_values('count', ascending=False)"
   ]
  },
  {
   "cell_type": "markdown",
   "metadata": {},
   "source": [
    "Проанализируем пропуски в признаке NotRepaired"
   ]
  },
  {
   "cell_type": "code",
   "execution_count": 8,
   "metadata": {},
   "outputs": [
    {
     "data": {
      "text/html": [
       "<div>\n",
       "<style scoped>\n",
       "    .dataframe tbody tr th:only-of-type {\n",
       "        vertical-align: middle;\n",
       "    }\n",
       "\n",
       "    .dataframe tbody tr th {\n",
       "        vertical-align: top;\n",
       "    }\n",
       "\n",
       "    .dataframe thead th {\n",
       "        text-align: right;\n",
       "    }\n",
       "</style>\n",
       "<table border=\"1\" class=\"dataframe\">\n",
       "  <thead>\n",
       "    <tr style=\"text-align: right;\">\n",
       "      <th></th>\n",
       "      <th>no</th>\n",
       "      <th>yes</th>\n",
       "      <th>nan</th>\n",
       "    </tr>\n",
       "  </thead>\n",
       "  <tbody>\n",
       "    <tr>\n",
       "      <th>count</th>\n",
       "      <td>247161.000000</td>\n",
       "      <td>36054.000000</td>\n",
       "      <td>71154.000000</td>\n",
       "    </tr>\n",
       "    <tr>\n",
       "      <th>mean</th>\n",
       "      <td>5296.811135</td>\n",
       "      <td>1916.039080</td>\n",
       "      <td>2626.419246</td>\n",
       "    </tr>\n",
       "    <tr>\n",
       "      <th>std</th>\n",
       "      <td>4723.939621</td>\n",
       "      <td>2670.474425</td>\n",
       "      <td>3360.612441</td>\n",
       "    </tr>\n",
       "    <tr>\n",
       "      <th>min</th>\n",
       "      <td>0.000000</td>\n",
       "      <td>0.000000</td>\n",
       "      <td>0.000000</td>\n",
       "    </tr>\n",
       "    <tr>\n",
       "      <th>25%</th>\n",
       "      <td>1600.000000</td>\n",
       "      <td>450.000000</td>\n",
       "      <td>500.000000</td>\n",
       "    </tr>\n",
       "    <tr>\n",
       "      <th>50%</th>\n",
       "      <td>3690.000000</td>\n",
       "      <td>900.000000</td>\n",
       "      <td>1390.000000</td>\n",
       "    </tr>\n",
       "    <tr>\n",
       "      <th>75%</th>\n",
       "      <td>7750.000000</td>\n",
       "      <td>2200.000000</td>\n",
       "      <td>3300.000000</td>\n",
       "    </tr>\n",
       "    <tr>\n",
       "      <th>max</th>\n",
       "      <td>20000.000000</td>\n",
       "      <td>20000.000000</td>\n",
       "      <td>20000.000000</td>\n",
       "    </tr>\n",
       "  </tbody>\n",
       "</table>\n",
       "</div>"
      ],
      "text/plain": [
       "                  no           yes           nan\n",
       "count  247161.000000  36054.000000  71154.000000\n",
       "mean     5296.811135   1916.039080   2626.419246\n",
       "std      4723.939621   2670.474425   3360.612441\n",
       "min         0.000000      0.000000      0.000000\n",
       "25%      1600.000000    450.000000    500.000000\n",
       "50%      3690.000000    900.000000   1390.000000\n",
       "75%      7750.000000   2200.000000   3300.000000\n",
       "max     20000.000000  20000.000000  20000.000000"
      ]
     },
     "execution_count": 8,
     "metadata": {},
     "output_type": "execute_result"
    }
   ],
   "source": [
    "pd.DataFrame({'no' : data['Price'].loc[data['NotRepaired'] == 'no'].describe().tolist(),\n",
    "              'yes' : data['Price'].loc[data['NotRepaired'] == 'yes'].describe().tolist(),\n",
    "              'nan' : data['Price'].loc[data['NotRepaired'].isna()].describe().tolist(),},\n",
    "             index=['count','mean','std','min','25%','50%','75%','max'])"
   ]
  },
  {
   "cell_type": "markdown",
   "metadata": {},
   "source": [
    "Не хочется заменять пропуски NotRepaired на 'yes' или 'no', так как средние и медианные значения цены для пропусков отличаются от цен для категорий 'yes' или 'no'\n",
    "\n",
    "Удалим пропуски в признаке NotRepaired. Но так как 20% данных это достаточно большой объём полезной информации, то сохраним копию данных и проверим потом на моделях с удалением пропусков и с созданием новой категории 'nan'.\n",
    "\n"
   ]
  },
  {
   "cell_type": "code",
   "execution_count": 9,
   "metadata": {},
   "outputs": [],
   "source": [
    "\n",
    "data_drop_nan = data.copy()[~data['NotRepaired'].isna()]"
   ]
  },
  {
   "cell_type": "code",
   "execution_count": 10,
   "metadata": {},
   "outputs": [],
   "source": [
    "\n",
    "data['NotRepaired'] = data['NotRepaired'].fillna('nan')"
   ]
  },
  {
   "cell_type": "markdown",
   "metadata": {},
   "source": [
    "Попробуем удалить вообще признак VehicleType и сравним потом результаты с этим признаком и без него"
   ]
  },
  {
   "cell_type": "code",
   "execution_count": 11,
   "metadata": {},
   "outputs": [],
   "source": [
    "data_drop_nan = data_drop_nan[~data_drop_nan['VehicleType'].isna()]"
   ]
  },
  {
   "cell_type": "code",
   "execution_count": 12,
   "metadata": {},
   "outputs": [],
   "source": [
    "data['VehicleType'] = data['VehicleType'].fillna('nan')"
   ]
  },
  {
   "cell_type": "code",
   "execution_count": 13,
   "metadata": {},
   "outputs": [
    {
     "data": {
      "text/plain": [
       "petrol      216352\n",
       "gasoline     98720\n",
       "lpg           5310\n",
       "cng            565\n",
       "hybrid         233\n",
       "other          204\n",
       "electric        90\n",
       "Name: FuelType, dtype: int64"
      ]
     },
     "execution_count": 13,
     "metadata": {},
     "output_type": "execute_result"
    }
   ],
   "source": [
    "#Посмотрим на ппризнак FuelType\n",
    "data['FuelType'].value_counts()"
   ]
  },
  {
   "cell_type": "code",
   "execution_count": 14,
   "metadata": {},
   "outputs": [
    {
     "data": {
      "text/html": [
       "<div>\n",
       "<style scoped>\n",
       "    .dataframe tbody tr th:only-of-type {\n",
       "        vertical-align: middle;\n",
       "    }\n",
       "\n",
       "    .dataframe tbody tr th {\n",
       "        vertical-align: top;\n",
       "    }\n",
       "\n",
       "    .dataframe thead th {\n",
       "        text-align: right;\n",
       "    }\n",
       "</style>\n",
       "<table border=\"1\" class=\"dataframe\">\n",
       "  <thead>\n",
       "    <tr style=\"text-align: right;\">\n",
       "      <th></th>\n",
       "      <th>other</th>\n",
       "      <th>nan</th>\n",
       "    </tr>\n",
       "  </thead>\n",
       "  <tbody>\n",
       "    <tr>\n",
       "      <th>count</th>\n",
       "      <td>204.000000</td>\n",
       "      <td>32895.000000</td>\n",
       "    </tr>\n",
       "    <tr>\n",
       "      <th>mean</th>\n",
       "      <td>2312.029412</td>\n",
       "      <td>2340.639945</td>\n",
       "    </tr>\n",
       "    <tr>\n",
       "      <th>std</th>\n",
       "      <td>3455.271143</td>\n",
       "      <td>3274.042829</td>\n",
       "    </tr>\n",
       "    <tr>\n",
       "      <th>min</th>\n",
       "      <td>0.000000</td>\n",
       "      <td>0.000000</td>\n",
       "    </tr>\n",
       "    <tr>\n",
       "      <th>25%</th>\n",
       "      <td>140.000000</td>\n",
       "      <td>380.000000</td>\n",
       "    </tr>\n",
       "    <tr>\n",
       "      <th>50%</th>\n",
       "      <td>974.500000</td>\n",
       "      <td>1100.000000</td>\n",
       "    </tr>\n",
       "    <tr>\n",
       "      <th>75%</th>\n",
       "      <td>2862.500000</td>\n",
       "      <td>2850.000000</td>\n",
       "    </tr>\n",
       "    <tr>\n",
       "      <th>max</th>\n",
       "      <td>17500.000000</td>\n",
       "      <td>20000.000000</td>\n",
       "    </tr>\n",
       "  </tbody>\n",
       "</table>\n",
       "</div>"
      ],
      "text/plain": [
       "              other           nan\n",
       "count    204.000000  32895.000000\n",
       "mean    2312.029412   2340.639945\n",
       "std     3455.271143   3274.042829\n",
       "min        0.000000      0.000000\n",
       "25%      140.000000    380.000000\n",
       "50%      974.500000   1100.000000\n",
       "75%     2862.500000   2850.000000\n",
       "max    17500.000000  20000.000000"
      ]
     },
     "execution_count": 14,
     "metadata": {},
     "output_type": "execute_result"
    }
   ],
   "source": [
    "pd.DataFrame({'other' : data['Price'].loc[data['FuelType'] == 'other'].describe().tolist(),\n",
    "              'nan' : data['Price'].loc[data['FuelType'].isna()].describe().tolist(),},\n",
    "             index=['count','mean','std','min','25%','50%','75%','max'])\n"
   ]
  },
  {
   "cell_type": "markdown",
   "metadata": {},
   "source": [
    "Распределение цены для FuelType со значением other и для пропусков довольно близки. Попробуем заменить пропуски в этом признаке на other"
   ]
  },
  {
   "cell_type": "code",
   "execution_count": 15,
   "metadata": {},
   "outputs": [],
   "source": [
    "data['FuelType'] = data['FuelType'].fillna('other')"
   ]
  },
  {
   "cell_type": "code",
   "execution_count": 16,
   "metadata": {},
   "outputs": [],
   "source": [
    "data_drop_nan['FuelType'] = data_drop_nan['FuelType'].fillna('other')"
   ]
  },
  {
   "cell_type": "markdown",
   "metadata": {},
   "source": [
    "В остальных признаках заполним пропуски как есть"
   ]
  },
  {
   "cell_type": "code",
   "execution_count": 17,
   "metadata": {},
   "outputs": [],
   "source": [
    "data['Gearbox'] = data['Gearbox'].fillna('nan')"
   ]
  },
  {
   "cell_type": "code",
   "execution_count": 18,
   "metadata": {},
   "outputs": [],
   "source": [
    "data_drop_nan = data_drop_nan[~data_drop_nan['Gearbox'].isna()]"
   ]
  },
  {
   "cell_type": "code",
   "execution_count": 19,
   "metadata": {},
   "outputs": [],
   "source": [
    "data['Model'] = data['Model'].fillna('nan')"
   ]
  },
  {
   "cell_type": "code",
   "execution_count": 20,
   "metadata": {},
   "outputs": [],
   "source": [
    "data_drop_nan = data_drop_nan[~data_drop_nan['Model'].isna()]"
   ]
  },
  {
   "cell_type": "markdown",
   "metadata": {},
   "source": [
    "Создали копию датафрейма в котором удалили все пропуски и признак VehicleType. В исходном датафрейме для пропусков создали отдельную категорию. В обоих датафреймах заменили пропуски в признаке FuelType на other."
   ]
  },
  {
   "cell_type": "markdown",
   "metadata": {},
   "source": [
    "Удалим ненужные признаки"
   ]
  },
  {
   "cell_type": "code",
   "execution_count": 21,
   "metadata": {},
   "outputs": [],
   "source": [
    "data = data.drop(['DateCrawled', 'LastSeen'], axis=1)\n",
    "data_drop_nan = data_drop_nan.drop(['DateCrawled', 'LastSeen'], axis=1)"
   ]
  },
  {
   "cell_type": "markdown",
   "metadata": {},
   "source": [
    "Посмотрим влияет ли дата создания анкеты DateCreated на целевой признак Price"
   ]
  },
  {
   "cell_type": "code",
   "execution_count": 22,
   "metadata": {},
   "outputs": [
    {
     "data": {
      "text/html": [
       "<div>\n",
       "<style scoped>\n",
       "    .dataframe tbody tr th:only-of-type {\n",
       "        vertical-align: middle;\n",
       "    }\n",
       "\n",
       "    .dataframe tbody tr th {\n",
       "        vertical-align: top;\n",
       "    }\n",
       "\n",
       "    .dataframe thead th {\n",
       "        text-align: right;\n",
       "    }\n",
       "</style>\n",
       "<table border=\"1\" class=\"dataframe\">\n",
       "  <thead>\n",
       "    <tr style=\"text-align: right;\">\n",
       "      <th></th>\n",
       "      <th>Price</th>\n",
       "    </tr>\n",
       "    <tr>\n",
       "      <th>DateCreated_format</th>\n",
       "      <th></th>\n",
       "    </tr>\n",
       "  </thead>\n",
       "  <tbody>\n",
       "    <tr>\n",
       "      <th>201603</th>\n",
       "      <td>296757</td>\n",
       "    </tr>\n",
       "    <tr>\n",
       "      <th>201604</th>\n",
       "      <td>57119</td>\n",
       "    </tr>\n",
       "    <tr>\n",
       "      <th>201602</th>\n",
       "      <td>397</td>\n",
       "    </tr>\n",
       "    <tr>\n",
       "      <th>201601</th>\n",
       "      <td>70</td>\n",
       "    </tr>\n",
       "    <tr>\n",
       "      <th>201511</th>\n",
       "      <td>9</td>\n",
       "    </tr>\n",
       "    <tr>\n",
       "      <th>201512</th>\n",
       "      <td>9</td>\n",
       "    </tr>\n",
       "    <tr>\n",
       "      <th>201509</th>\n",
       "      <td>3</td>\n",
       "    </tr>\n",
       "    <tr>\n",
       "      <th>201508</th>\n",
       "      <td>2</td>\n",
       "    </tr>\n",
       "    <tr>\n",
       "      <th>201403</th>\n",
       "      <td>1</td>\n",
       "    </tr>\n",
       "    <tr>\n",
       "      <th>201503</th>\n",
       "      <td>1</td>\n",
       "    </tr>\n",
       "    <tr>\n",
       "      <th>201506</th>\n",
       "      <td>1</td>\n",
       "    </tr>\n",
       "  </tbody>\n",
       "</table>\n",
       "</div>"
      ],
      "text/plain": [
       "                     Price\n",
       "DateCreated_format        \n",
       "201603              296757\n",
       "201604               57119\n",
       "201602                 397\n",
       "201601                  70\n",
       "201511                   9\n",
       "201512                   9\n",
       "201509                   3\n",
       "201508                   2\n",
       "201403                   1\n",
       "201503                   1\n",
       "201506                   1"
      ]
     },
     "execution_count": 22,
     "metadata": {},
     "output_type": "execute_result"
    }
   ],
   "source": [
    "data['DateCreated_format'] = data['DateCreated'].apply(lambda x: x.strftime(\"%Y%m\"))\n",
    "pivot = data.pivot_table(index= 'DateCreated_format', values='Price', aggfunc='count')\n",
    "data = data.drop(['DateCreated_format'], axis=1)\n",
    "pivot.sort_values(by='Price', ascending=False)"
   ]
  },
  {
   "cell_type": "markdown",
   "metadata": {},
   "source": [
    "Данные до 2016 года можно считать устаревшими, к тому же таких анкет очень мало. Удалим эти данные"
   ]
  },
  {
   "cell_type": "code",
   "execution_count": 23,
   "metadata": {},
   "outputs": [],
   "source": [
    "data = data.loc[data['DateCreated'].dt.year >= 2016]\n",
    "data_drop_nan = data_drop_nan.loc[data_drop_nan['DateCreated'].dt.year >= 2016]"
   ]
  },
  {
   "cell_type": "markdown",
   "metadata": {},
   "source": [
    "Создадим новый категориальный признак - день недели подачи анкеты, зачастую в зависимости от него меняется цена. Проверим."
   ]
  },
  {
   "cell_type": "code",
   "execution_count": 24,
   "metadata": {},
   "outputs": [],
   "source": [
    "data.loc[:, 'DayOfWeek'] = data.loc[:, 'DateCreated'].dt.weekday\n",
    "data_drop_nan.loc[:, 'DayOfWeek'] = data_drop_nan.loc[:, 'DateCreated'].dt.weekday\n"
   ]
  },
  {
   "cell_type": "code",
   "execution_count": 25,
   "metadata": {},
   "outputs": [
    {
     "data": {
      "text/html": [
       "<div>\n",
       "<style scoped>\n",
       "    .dataframe tbody tr th:only-of-type {\n",
       "        vertical-align: middle;\n",
       "    }\n",
       "\n",
       "    .dataframe tbody tr th {\n",
       "        vertical-align: top;\n",
       "    }\n",
       "\n",
       "    .dataframe thead th {\n",
       "        text-align: right;\n",
       "    }\n",
       "</style>\n",
       "<table border=\"1\" class=\"dataframe\">\n",
       "  <thead>\n",
       "    <tr style=\"text-align: right;\">\n",
       "      <th></th>\n",
       "      <th>Price</th>\n",
       "    </tr>\n",
       "    <tr>\n",
       "      <th>DayOfWeek</th>\n",
       "      <th></th>\n",
       "    </tr>\n",
       "  </thead>\n",
       "  <tbody>\n",
       "    <tr>\n",
       "      <th>0</th>\n",
       "      <td>4411.029347</td>\n",
       "    </tr>\n",
       "    <tr>\n",
       "      <th>1</th>\n",
       "      <td>4273.600195</td>\n",
       "    </tr>\n",
       "    <tr>\n",
       "      <th>2</th>\n",
       "      <td>4318.393211</td>\n",
       "    </tr>\n",
       "    <tr>\n",
       "      <th>3</th>\n",
       "      <td>4336.419356</td>\n",
       "    </tr>\n",
       "    <tr>\n",
       "      <th>4</th>\n",
       "      <td>4445.776522</td>\n",
       "    </tr>\n",
       "    <tr>\n",
       "      <th>5</th>\n",
       "      <td>4504.363243</td>\n",
       "    </tr>\n",
       "    <tr>\n",
       "      <th>6</th>\n",
       "      <td>4616.046719</td>\n",
       "    </tr>\n",
       "  </tbody>\n",
       "</table>\n",
       "</div>"
      ],
      "text/plain": [
       "                 Price\n",
       "DayOfWeek             \n",
       "0          4411.029347\n",
       "1          4273.600195\n",
       "2          4318.393211\n",
       "3          4336.419356\n",
       "4          4445.776522\n",
       "5          4504.363243\n",
       "6          4616.046719"
      ]
     },
     "execution_count": 25,
     "metadata": {},
     "output_type": "execute_result"
    }
   ],
   "source": [
    "data[['DayOfWeek', 'Price']].groupby(by=['DayOfWeek']).mean()"
   ]
  },
  {
   "cell_type": "markdown",
   "metadata": {},
   "source": [
    "Наблюдается некоторая зависимость цены от дня подачи объявления. Оставим этот новый признак и удалим дату создания анкеты."
   ]
  },
  {
   "cell_type": "code",
   "execution_count": 26,
   "metadata": {},
   "outputs": [],
   "source": [
    "data = data.drop(['DateCreated'], axis=1)\n",
    "data_drop_nan = data_drop_nan.drop(['DateCreated'], axis=1)"
   ]
  },
  {
   "cell_type": "code",
   "execution_count": 27,
   "metadata": {},
   "outputs": [
    {
     "data": {
      "text/plain": [
       "0    354343\n",
       "Name: NumberOfPictures, dtype: int64"
      ]
     },
     "execution_count": 27,
     "metadata": {},
     "output_type": "execute_result"
    }
   ],
   "source": [
    "data['NumberOfPictures'].value_counts()"
   ]
  },
  {
   "cell_type": "markdown",
   "metadata": {},
   "source": [
    "Фотографий нет, признак можем удалить"
   ]
  },
  {
   "cell_type": "code",
   "execution_count": 28,
   "metadata": {},
   "outputs": [],
   "source": [
    "data = data.drop(['NumberOfPictures'], axis=1)\n",
    "data_drop_nan = data_drop_nan.drop(['NumberOfPictures'], axis=1)"
   ]
  },
  {
   "cell_type": "code",
   "execution_count": 29,
   "metadata": {},
   "outputs": [
    {
     "data": {
      "text/plain": [
       "10115    819\n",
       "65428    613\n",
       "66333    343\n",
       "32257    317\n",
       "44145    317\n",
       "        ... \n",
       "21782      1\n",
       "9517       1\n",
       "29367      1\n",
       "38325      1\n",
       "82404      1\n",
       "Name: PostalCode, Length: 8143, dtype: int64"
      ]
     },
     "execution_count": 29,
     "metadata": {},
     "output_type": "execute_result"
    }
   ],
   "source": [
    "data['PostalCode'].value_counts()"
   ]
  },
  {
   "cell_type": "markdown",
   "metadata": {},
   "source": [
    "8138 уникальных уникальных значений почтового индекса,и так как нам важна скороть обучения,  удалим их."
   ]
  },
  {
   "cell_type": "code",
   "execution_count": 30,
   "metadata": {},
   "outputs": [],
   "source": [
    "data = data.drop(['PostalCode'], axis=1)\n",
    "data_drop_nan = data_drop_nan.drop(['PostalCode'], axis=1)"
   ]
  },
  {
   "cell_type": "markdown",
   "metadata": {},
   "source": [
    "Посмотрим на распределение целевого признака - цены"
   ]
  },
  {
   "cell_type": "code",
   "execution_count": 31,
   "metadata": {},
   "outputs": [
    {
     "data": {
      "image/png": "[encoded data removed]",
      "text/plain": [
       "<Figure size 576x288 with 1 Axes>"
      ]
     },
     "metadata": {
      "needs_background": "light"
     },
     "output_type": "display_data"
    }
   ],
   "source": [
    "fig, ax = plt.subplots()\n",
    "fig.set_size_inches(8,4)\n",
    "ax.hist(data['Price'], bins=50)\n",
    "ax.set_xlabel('Price', fontsize=14)\n",
    "ax.set_ylabel('Count', fontsize=14)\n",
    "plt.show()"
   ]
  },
  {
   "cell_type": "markdown",
   "metadata": {},
   "source": [
    "Нулевые значения цены является какой-то аномалией, скорее всего цена не была указана или указана неверно. Избавимся от таких значений, не будем прогнозировать нулевую цену."
   ]
  },
  {
   "cell_type": "code",
   "execution_count": 32,
   "metadata": {},
   "outputs": [],
   "source": [
    "data = data[~(data['Price'] == 0)]\n",
    "data_drop_nan = data_drop_nan[~(data_drop_nan['Price'] == 0)]"
   ]
  },
  {
   "cell_type": "markdown",
   "metadata": {},
   "source": [
    "Проверим так же значения пробега и мощности"
   ]
  },
  {
   "cell_type": "code",
   "execution_count": 33,
   "metadata": {},
   "outputs": [
    {
     "data": {
      "text/plain": [
       "0"
      ]
     },
     "execution_count": 33,
     "metadata": {},
     "output_type": "execute_result"
    }
   ],
   "source": [
    "data[data['Kilometer'] == 0].shape[0]"
   ]
  },
  {
   "cell_type": "code",
   "execution_count": 34,
   "metadata": {},
   "outputs": [
    {
     "data": {
      "text/plain": [
       "36358"
      ]
     },
     "execution_count": 34,
     "metadata": {},
     "output_type": "execute_result"
    }
   ],
   "source": [
    "data[data['Power'] == 0].shape[0]"
   ]
  },
  {
   "cell_type": "markdown",
   "metadata": {},
   "source": [
    "Удалим нулевые данные, чтобы не портить модель"
   ]
  },
  {
   "cell_type": "code",
   "execution_count": 35,
   "metadata": {},
   "outputs": [],
   "source": [
    "data = data[~(data['Power'] == 0)]\n",
    "data_drop_nan = data_drop_nan[~(data_drop_nan['Power'] == 0)]"
   ]
  },
  {
   "cell_type": "markdown",
   "metadata": {},
   "source": [
    "**Вывод**\n",
    "\n",
    "В ходе подготовки данных сделано следующее:\n",
    "- создали копию датафрейма в котором удалили все пропуски и признак VehicleType. В исходном датафрейме для пропусков создали отдельную категорию. В обоих датафреймах заменили пропуски в признаке FuelType на other.\n",
    "- удалили признаки 'DateCrawled', 'LastSeen' и 'NumberOfPictures'\n",
    "- взяли промежуток времени анкет с 2016 года (до этого удалили)\n",
    "- добавили новый признак DayOfWeek (день недели подачи анкеты)\n",
    "- удалили признак PostalCode для ускорения обучения\n",
    "- удалили данные об автомобилях с нулевым значением цены и мощности"
   ]
  },
  {
   "cell_type": "markdown",
   "metadata": {},
   "source": [
    "## Обучение моделей"
   ]
  },
  {
   "cell_type": "markdown",
   "metadata": {},
   "source": [
    "Разделим датасет на обучающую, валидационную и тестовую выборку в пропорции 3:1:1"
   ]
  },
  {
   "cell_type": "code",
   "execution_count": 36,
   "metadata": {},
   "outputs": [],
   "source": [
    "features = data.drop(['Price'], axis=1)\n",
    "target = data['Price']\n",
    "\n",
    "features_train, X, target_train, y = train_test_split(features, target, test_size=0.4, random_state=91)\n",
    "features_valid, features_test, target_valid, target_test = train_test_split(X, y, test_size=0.5, random_state=91)"
   ]
  },
  {
   "cell_type": "markdown",
   "metadata": {},
   "source": [
    "Проверим какой способ обработки пропусков оказался лучше: удалить пропуски или заменить пропуски новым значением 'nan'"
   ]
  },
  {
   "cell_type": "code",
   "execution_count": 37,
   "metadata": {},
   "outputs": [],
   "source": [
    "cat_features = ['VehicleType', 'Gearbox', 'Model', 'FuelType', 'Brand', 'NotRepaired']"
   ]
  },
  {
   "cell_type": "code",
   "execution_count": 38,
   "metadata": {},
   "outputs": [
    {
     "name": "stdout",
     "output_type": "stream",
     "text": [
      "Learning rate set to 0.5\n",
      "0:\tlearn: 3272.4475383\ttotal: 142ms\tremaining: 14s\n",
      "20:\tlearn: 1826.4304528\ttotal: 1.6s\tremaining: 6.04s\n",
      "40:\tlearn: 1743.0439704\ttotal: 3.01s\tremaining: 4.34s\n",
      "60:\tlearn: 1702.4862374\ttotal: 4.43s\tremaining: 2.83s\n",
      "80:\tlearn: 1673.2618153\ttotal: 5.81s\tremaining: 1.36s\n",
      "99:\tlearn: 1651.3056301\ttotal: 7.12s\tremaining: 0us\n",
      "Learning rate set to 0.5\n",
      "0:\tlearn: 3267.7775406\ttotal: 58.3ms\tremaining: 5.77s\n",
      "20:\tlearn: 1776.8525140\ttotal: 961ms\tremaining: 3.61s\n",
      "40:\tlearn: 1689.5869336\ttotal: 1.85s\tremaining: 2.66s\n",
      "60:\tlearn: 1641.9399897\ttotal: 2.7s\tremaining: 1.73s\n",
      "80:\tlearn: 1607.3822152\ttotal: 3.57s\tremaining: 837ms\n",
      "99:\tlearn: 1586.8054945\ttotal: 4.41s\tremaining: 0us\n",
      "\n",
      "RMSE при замене пропусков:   1706.1657144036283\n",
      "RMSE при удалении пропусков: 1690.0372798175615\n",
      "CPU times: user 12.3 s, sys: 176 ms, total: 12.5 s\n",
      "Wall time: 13.7 s\n"
     ]
    }
   ],
   "source": [
    "%%time\n",
    "\n",
    "model = CatBoostRegressor(loss_function='RMSE', iterations=100, verbose=20, thread_count=-1, random_seed=91)\n",
    "\n",
    "list_data = [data, data_drop_nan]\n",
    "list_rmse = []\n",
    "\n",
    "for df in list_data:\n",
    "    features = df.drop(['Price'], axis=1)\n",
    "    target = df['Price']\n",
    "\n",
    "    features_train, X, target_train, y = train_test_split(features, target, test_size=0.4, random_state=91)\n",
    "    features_valid, features_test, target_valid, target_test = train_test_split(X, y, test_size=0.5, random_state=91)\n",
    "\n",
    "    model.fit(features_train, target_train, cat_features=cat_features)\n",
    "    pred_valid = model.predict(features_valid)\n",
    "    list_rmse.append(mean_squared_error(target_valid, pred_valid, squared=False))\n",
    "\n",
    "print()\n",
    "print(f'RMSE при замене пропусков:   {list_rmse[0]}')\n",
    "print(f'RMSE при удалении пропусков: {list_rmse[1]}')"
   ]
  },
  {
   "cell_type": "markdown",
   "metadata": {},
   "source": [
    "Разница не очень большая в пользу данных,  в которых удалены пропуски, но все же лучше оставить пропуск как отдельную категорию."
   ]
  },
  {
   "cell_type": "markdown",
   "metadata": {},
   "source": [
    "**Desicion Tree**"
   ]
  },
  {
   "cell_type": "code",
   "execution_count": 39,
   "metadata": {},
   "outputs": [],
   "source": [
    "features_train_encoded = features_train.copy()\n",
    "features_valid_encoded = features_valid.copy()\n",
    "features_train_encoded[cat_features] = OrdinalEncoder().fit_transform(features_train_encoded[cat_features])\n",
    "features_valid_encoded[cat_features] = OrdinalEncoder().fit_transform(features_valid_encoded[cat_features])"
   ]
  },
  {
   "cell_type": "code",
   "execution_count": 40,
   "metadata": {},
   "outputs": [
    {
     "name": "stdout",
     "output_type": "stream",
     "text": [
      "RMSE of Desicion Tree: 2003.074651591403\n"
     ]
    }
   ],
   "source": [
    "tree = DecisionTreeRegressor(max_depth=10).fit(features_train_encoded, target_train)\n",
    "pred_valid = tree.predict(features_valid_encoded)\n",
    "print(f'RMSE of Desicion Tree: {mean_squared_error(target_valid, pred_valid, squared=False)}')"
   ]
  },
  {
   "cell_type": "markdown",
   "metadata": {},
   "source": [
    "**CatBoost**"
   ]
  },
  {
   "cell_type": "code",
   "execution_count": 41,
   "metadata": {},
   "outputs": [
    {
     "data": {
      "application/vnd.jupyter.widget-view+json": {
       "model_id": "a66a2bc5c6fd40b4b38bef7c8aa75bbb",
       "version_major": 2,
       "version_minor": 0
      },
      "text/plain": [
       "MetricVisualizer(layout=Layout(align_self='stretch', height='500px'))"
      ]
     },
     "metadata": {},
     "output_type": "display_data"
    },
    {
     "name": "stdout",
     "output_type": "stream",
     "text": [
      "0:\tlearn: 6442.6766062\ttest: 6501.2710566\tbest: 6501.2710566 (0)\ttotal: 70.1ms\tremaining: 3.43s\n",
      "49:\tlearn: 1710.0030858\ttest: 1723.7928306\tbest: 1723.7928306 (49)\ttotal: 3.24s\tremaining: 0us\n",
      "\n",
      "bestTest = 1723.792831\n",
      "bestIteration = 49\n",
      "\n",
      "0:\tloss: 1723.7928306\tbest: 1723.7928306 (0)\ttotal: 3.88s\tremaining: 58.2s\n",
      "0:\tlearn: 4157.0518462\ttest: 4180.3673894\tbest: 4180.3673894 (0)\ttotal: 70.5ms\tremaining: 3.46s\n",
      "49:\tlearn: 1493.1045076\ttest: 1623.6173026\tbest: 1623.6173026 (49)\ttotal: 3.33s\tremaining: 0us\n",
      "\n",
      "bestTest = 1623.617303\n",
      "bestIteration = 49\n",
      "\n",
      "1:\tloss: 1623.6173026\tbest: 1623.6173026 (1)\ttotal: 7.23s\tremaining: 50.6s\n",
      "0:\tlearn: 6447.0098367\ttest: 6505.4566902\tbest: 6505.4566902 (0)\ttotal: 71.8ms\tremaining: 3.52s\n",
      "49:\tlearn: 1720.3113023\ttest: 1724.8456396\tbest: 1724.8456396 (49)\ttotal: 3.31s\tremaining: 0us\n",
      "\n",
      "bestTest = 1724.84564\n",
      "bestIteration = 49\n",
      "\n",
      "2:\tloss: 1724.8456396\tbest: 1623.6173026 (1)\ttotal: 10.6s\tremaining: 45.8s\n",
      "0:\tlearn: 4176.8009099\ttest: 4199.1927818\tbest: 4199.1927818 (0)\ttotal: 73.9ms\tremaining: 3.62s\n",
      "49:\tlearn: 1529.0802530\ttest: 1630.1437888\tbest: 1630.1437888 (49)\ttotal: 3.22s\tremaining: 0us\n",
      "\n",
      "bestTest = 1630.143789\n",
      "bestIteration = 49\n",
      "\n",
      "3:\tloss: 1630.1437888\tbest: 1623.6173026 (1)\ttotal: 13.8s\tremaining: 41.4s\n",
      "0:\tlearn: 6440.0110543\ttest: 6499.1603793\tbest: 6499.1603793 (0)\ttotal: 204ms\tremaining: 40.6s\n",
      "50:\tlearn: 1689.5788302\ttest: 1707.1987864\tbest: 1707.1987864 (50)\ttotal: 9.62s\tremaining: 28.1s\n",
      "100:\tlearn: 1587.2060060\ttest: 1635.7138881\tbest: 1635.7138881 (100)\ttotal: 18.9s\tremaining: 18.5s\n",
      "150:\tlearn: 1524.2463657\ttest: 1600.6490197\tbest: 1600.6490197 (150)\ttotal: 28.5s\tremaining: 9.24s\n",
      "199:\tlearn: 1478.2876636\ttest: 1580.6959839\tbest: 1580.6959839 (199)\ttotal: 38.4s\tremaining: 0us\n",
      "\n",
      "bestTest = 1580.695984\n",
      "bestIteration = 199\n",
      "\n",
      "4:\tloss: 1580.6959839\tbest: 1580.6959839 (4)\ttotal: 52.2s\tremaining: 1m 54s\n",
      "0:\tlearn: 4141.0665091\ttest: 4167.9002665\tbest: 4167.9002665 (0)\ttotal: 218ms\tremaining: 43.4s\n",
      "50:\tlearn: 1487.9818064\ttest: 1614.0312537\tbest: 1614.0312537 (50)\ttotal: 9.75s\tremaining: 28.5s\n",
      "100:\tlearn: 1351.3391390\ttest: 1582.9358820\tbest: 1582.5681025 (99)\ttotal: 19.8s\tremaining: 19.4s\n",
      "150:\tlearn: 1267.4806775\ttest: 1571.5007003\tbest: 1571.5007003 (150)\ttotal: 29.8s\tremaining: 9.67s\n",
      "199:\tlearn: 1204.1872957\ttest: 1569.6012117\tbest: 1569.1227719 (163)\ttotal: 40s\tremaining: 0us\n",
      "\n",
      "bestTest = 1569.122772\n",
      "bestIteration = 163\n",
      "\n",
      "5:\tloss: 1569.1227719\tbest: 1569.1227719 (5)\ttotal: 1m 32s\tremaining: 2m 33s\n",
      "0:\tlearn: 6444.0606102\ttest: 6502.9772271\tbest: 6502.9772271 (0)\ttotal: 210ms\tremaining: 41.7s\n",
      "50:\tlearn: 1704.4688971\ttest: 1713.6091198\tbest: 1713.6091198 (50)\ttotal: 9.82s\tremaining: 28.7s\n",
      "100:\tlearn: 1610.6515638\ttest: 1643.6838351\tbest: 1643.6838351 (100)\ttotal: 18.8s\tremaining: 18.4s\n",
      "150:\tlearn: 1565.8732261\ttest: 1617.2805183\tbest: 1617.2805183 (150)\ttotal: 28.1s\tremaining: 9.13s\n",
      "199:\tlearn: 1525.8820317\ttest: 1598.1450551\tbest: 1598.1450551 (199)\ttotal: 38s\tremaining: 0us\n",
      "\n",
      "bestTest = 1598.145055\n",
      "bestIteration = 199\n",
      "\n",
      "6:\tloss: 1598.1450551\tbest: 1569.1227719 (5)\ttotal: 2m 10s\tremaining: 2m 47s\n",
      "0:\tlearn: 4159.7880366\ttest: 4185.3304463\tbest: 4185.3304463 (0)\ttotal: 203ms\tremaining: 40.4s\n",
      "50:\tlearn: 1514.7465422\ttest: 1613.6585509\tbest: 1613.6585509 (50)\ttotal: 9.55s\tremaining: 27.9s\n",
      "100:\tlearn: 1418.1968214\ttest: 1592.8691438\tbest: 1592.8691438 (100)\ttotal: 19.6s\tremaining: 19.3s\n",
      "150:\tlearn: 1345.5105920\ttest: 1578.8756709\tbest: 1578.2773656 (143)\ttotal: 30.3s\tremaining: 9.82s\n",
      "199:\tlearn: 1281.6709211\ttest: 1572.0504637\tbest: 1572.0504637 (199)\ttotal: 40.4s\tremaining: 0us\n",
      "\n",
      "bestTest = 1572.050464\n",
      "bestIteration = 199\n",
      "\n",
      "7:\tloss: 1572.0504637\tbest: 1569.1227719 (5)\ttotal: 2m 50s\tremaining: 2m 50s\n",
      "0:\tlearn: 6436.7056131\ttest: 6495.5744950\tbest: 6495.5744950 (0)\ttotal: 98ms\tremaining: 4.8s\n",
      "49:\tlearn: 1641.3575304\ttest: 1686.4128984\tbest: 1686.4128984 (49)\ttotal: 4.91s\tremaining: 0us\n",
      "\n",
      "bestTest = 1686.412898\n",
      "bestIteration = 49\n",
      "\n",
      "8:\tloss: 1686.4128984\tbest: 1569.1227719 (5)\ttotal: 2m 55s\tremaining: 2m 16s\n",
      "0:\tlearn: 4119.6668630\ttest: 4145.1457379\tbest: 4145.1457379 (0)\ttotal: 102ms\tremaining: 5.02s\n",
      "49:\tlearn: 1369.3827487\ttest: 1608.3776845\tbest: 1608.3776845 (49)\ttotal: 5.11s\tremaining: 0us\n",
      "\n",
      "bestTest = 1608.377684\n",
      "bestIteration = 49\n",
      "\n",
      "9:\tloss: 1608.3776845\tbest: 1569.1227719 (5)\ttotal: 3m\tremaining: 1m 48s\n",
      "0:\tlearn: 6441.5219806\ttest: 6500.2337556\tbest: 6500.2337556 (0)\ttotal: 98.2ms\tremaining: 4.81s\n",
      "49:\tlearn: 1666.6502196\ttest: 1695.1393649\tbest: 1695.1393649 (49)\ttotal: 4.97s\tremaining: 0us\n",
      "\n",
      "bestTest = 1695.139365\n",
      "bestIteration = 49\n",
      "\n",
      "10:\tloss: 1695.1393649\tbest: 1569.1227719 (5)\ttotal: 3m 5s\tremaining: 1m 24s\n",
      "0:\tlearn: 4141.8592232\ttest: 4166.3498129\tbest: 4166.3498129 (0)\ttotal: 98.6ms\tremaining: 4.83s\n",
      "49:\tlearn: 1456.7457785\ttest: 1616.8684524\tbest: 1616.8684524 (49)\ttotal: 5.07s\tremaining: 0us\n",
      "\n",
      "bestTest = 1616.868452\n",
      "bestIteration = 49\n",
      "\n",
      "11:\tloss: 1616.8684524\tbest: 1569.1227719 (5)\ttotal: 3m 10s\tremaining: 1m 3s\n",
      "0:\tlearn: 6432.7246175\ttest: 6492.4940856\tbest: 6492.4940856 (0)\ttotal: 315ms\tremaining: 1m 2s\n",
      "50:\tlearn: 1606.3179480\ttest: 1656.6568548\tbest: 1656.6568548 (50)\ttotal: 14.2s\tremaining: 41.5s\n",
      "100:\tlearn: 1503.9799916\ttest: 1600.1669467\tbest: 1600.1669467 (100)\ttotal: 28.3s\tremaining: 27.7s\n",
      "150:\tlearn: 1435.6803298\ttest: 1572.7684309\tbest: 1572.7684309 (150)\ttotal: 43.1s\tremaining: 14s\n",
      "199:\tlearn: 1381.8678147\ttest: 1557.0541249\tbest: 1557.0541249 (199)\ttotal: 57.8s\tremaining: 0us\n",
      "\n",
      "bestTest = 1557.054125\n",
      "bestIteration = 199\n",
      "\n",
      "12:\tloss: 1557.0541249\tbest: 1557.0541249 (12)\ttotal: 4m 8s\tremaining: 57.4s\n",
      "0:\tlearn: 4090.9692225\ttest: 4123.1528072\tbest: 4123.1528072 (0)\ttotal: 325ms\tremaining: 1m 4s\n",
      "50:\tlearn: 1346.8140593\ttest: 1595.9594485\tbest: 1595.9594485 (50)\ttotal: 14.6s\tremaining: 42.7s\n",
      "100:\tlearn: 1178.7908591\ttest: 1585.1170844\tbest: 1583.9219479 (93)\ttotal: 29.9s\tremaining: 29.3s\n",
      "150:\tlearn: 1070.4992724\ttest: 1586.6767921\tbest: 1583.9219479 (93)\ttotal: 45.4s\tremaining: 14.7s\n",
      "199:\tlearn: 994.7490062\ttest: 1589.0041121\tbest: 1583.9219479 (93)\ttotal: 1m\tremaining: 0us\n",
      "\n",
      "bestTest = 1583.921948\n",
      "bestIteration = 93\n",
      "\n",
      "13:\tloss: 1583.9219479\tbest: 1557.0541249 (12)\ttotal: 5m 9s\tremaining: 44.2s\n",
      "0:\tlearn: 6440.0868548\ttest: 6499.5737762\tbest: 6499.5737762 (0)\ttotal: 308ms\tremaining: 1m 1s\n",
      "50:\tlearn: 1639.0281463\ttest: 1670.9054548\tbest: 1670.9054548 (50)\ttotal: 13.8s\tremaining: 40.4s\n",
      "100:\tlearn: 1550.9096491\ttest: 1614.3708686\tbest: 1614.3708686 (100)\ttotal: 25.4s\tremaining: 24.9s\n",
      "150:\tlearn: 1496.5181434\ttest: 1585.3709543\tbest: 1585.3709543 (150)\ttotal: 37.8s\tremaining: 12.3s\n",
      "199:\tlearn: 1453.5296410\ttest: 1570.0144668\tbest: 1570.0144668 (199)\ttotal: 52.4s\tremaining: 0us\n",
      "\n",
      "bestTest = 1570.014467\n",
      "bestIteration = 199\n",
      "\n",
      "14:\tloss: 1570.0144668\tbest: 1557.0541249 (12)\ttotal: 6m 2s\tremaining: 24.1s\n",
      "0:\tlearn: 4126.2294791\ttest: 4156.6718861\tbest: 4156.6718861 (0)\ttotal: 306ms\tremaining: 1m\n",
      "50:\tlearn: 1438.5716965\ttest: 1603.3364806\tbest: 1603.3364806 (50)\ttotal: 13.8s\tremaining: 40.4s\n",
      "100:\tlearn: 1280.2931376\ttest: 1591.8880653\tbest: 1591.8880653 (100)\ttotal: 29s\tremaining: 28.4s\n",
      "150:\tlearn: 1178.4965707\ttest: 1587.5688635\tbest: 1586.2561641 (134)\ttotal: 44.8s\tremaining: 14.5s\n",
      "199:\tlearn: 1103.9863489\ttest: 1588.6032154\tbest: 1585.5972177 (166)\ttotal: 60s\tremaining: 0us\n",
      "\n",
      "bestTest = 1585.597218\n",
      "bestIteration = 166\n",
      "\n",
      "15:\tloss: 1585.5972177\tbest: 1557.0541249 (12)\ttotal: 7m 2s\tremaining: 0us\n",
      "Estimating final quality...\n",
      "Training on fold [0/3]\n",
      "0:\tlearn: 6466.5079111\ttest: 6398.0025084\tbest: 6398.0025084 (0)\ttotal: 343ms\tremaining: 1m 8s\n",
      "50:\tlearn: 1601.7241704\ttest: 1685.4350361\tbest: 1685.4350361 (50)\ttotal: 12.7s\tremaining: 37s\n",
      "100:\tlearn: 1503.9028946\ttest: 1630.5342533\tbest: 1630.5342533 (100)\ttotal: 24.3s\tremaining: 23.9s\n",
      "150:\tlearn: 1430.6337334\ttest: 1604.1250360\tbest: 1604.1250360 (150)\ttotal: 38.4s\tremaining: 12.5s\n",
      "199:\tlearn: 1371.7961834\ttest: 1588.1698508\tbest: 1588.1698508 (199)\ttotal: 53s\tremaining: 0us\n",
      "\n",
      "bestTest = 1588.169851\n",
      "bestIteration = 199\n",
      "\n",
      "Training on fold [1/3]\n",
      "0:\tlearn: 6447.6592556\ttest: 6463.0253413\tbest: 6463.0253413 (0)\ttotal: 209ms\tremaining: 41.5s\n",
      "50:\tlearn: 1605.8784001\ttest: 1695.0739334\tbest: 1695.0739334 (50)\ttotal: 13.4s\tremaining: 39.3s\n",
      "100:\tlearn: 1485.5737768\ttest: 1634.0105155\tbest: 1634.0105155 (100)\ttotal: 26s\tremaining: 25.5s\n",
      "150:\tlearn: 1409.9056600\ttest: 1609.2790934\tbest: 1609.2790934 (150)\ttotal: 38.9s\tremaining: 12.6s\n",
      "199:\tlearn: 1352.4485387\ttest: 1595.7004216\tbest: 1595.6893586 (196)\ttotal: 52.1s\tremaining: 0us\n",
      "\n",
      "bestTest = 1595.689359\n",
      "bestIteration = 196\n",
      "\n",
      "Training on fold [2/3]\n",
      "0:\tlearn: 6439.2283417\ttest: 6492.2034283\tbest: 6492.2034283 (0)\ttotal: 233ms\tremaining: 46.3s\n",
      "50:\tlearn: 1610.1014912\ttest: 1671.1480468\tbest: 1671.1480468 (50)\ttotal: 12.5s\tremaining: 36.4s\n",
      "100:\tlearn: 1492.0495345\ttest: 1612.1679833\tbest: 1612.1679833 (100)\ttotal: 24.1s\tremaining: 23.6s\n",
      "150:\tlearn: 1423.1214139\ttest: 1589.0079864\tbest: 1589.0079864 (150)\ttotal: 37.5s\tremaining: 12.2s\n",
      "199:\tlearn: 1368.3852710\ttest: 1576.0733884\tbest: 1576.0733884 (199)\ttotal: 51.4s\tremaining: 0us\n",
      "\n",
      "bestTest = 1576.073388\n",
      "bestIteration = 199\n",
      "\n",
      "CPU times: user 10min 34s, sys: 6.84 s, total: 10min 41s\n",
      "Wall time: 10min 44s\n"
     ]
    }
   ],
   "source": [
    "%%time\n",
    "\n",
    "model = CatBoostRegressor(cat_features=cat_features,\n",
    "                          loss_function='RMSE',\n",
    "                          verbose=50,\n",
    "                          thread_count=-1,\n",
    "                          random_seed=91)\n",
    "\n",
    "grid = {'learning_rate': [0.1, 0.5],\n",
    "        'depth': [10, 12],\n",
    "        'l2_leaf_reg': [3, 7],\n",
    "        'iterations' : [50, 200]}\n",
    "\n",
    "grid_search_result = model.grid_search(grid, \n",
    "                                       X=features_train, \n",
    "                                       y=target_train,\n",
    "                                       plot=True)\n"
   ]
  },
  {
   "cell_type": "code",
   "execution_count": 42,
   "metadata": {},
   "outputs": [
    {
     "data": {
      "text/plain": [
       "{'depth': 12, 'l2_leaf_reg': 3, 'iterations': 200, 'learning_rate': 0.1}"
      ]
     },
     "execution_count": 42,
     "metadata": {},
     "output_type": "execute_result"
    }
   ],
   "source": [
    "grid_search_result['params']"
   ]
  },
  {
   "cell_type": "code",
   "execution_count": 43,
   "metadata": {},
   "outputs": [
    {
     "name": "stdout",
     "output_type": "stream",
     "text": [
      "0:\tlearn: 4370.3690791\ttotal: 360ms\tremaining: 1m 11s\n",
      "20:\tlearn: 1863.3205931\ttotal: 6.58s\tremaining: 56.1s\n",
      "40:\tlearn: 1636.4315132\ttotal: 12.4s\tremaining: 48s\n",
      "60:\tlearn: 1575.6179461\ttotal: 18.1s\tremaining: 41.2s\n",
      "80:\tlearn: 1535.7985783\ttotal: 24.3s\tremaining: 35.6s\n",
      "100:\tlearn: 1503.6748004\ttotal: 30s\tremaining: 29.4s\n",
      "120:\tlearn: 1476.9171863\ttotal: 36.2s\tremaining: 23.7s\n",
      "140:\tlearn: 1452.8910223\ttotal: 42.7s\tremaining: 17.9s\n",
      "160:\tlearn: 1432.8683887\ttotal: 49.5s\tremaining: 12s\n",
      "180:\tlearn: 1407.4601200\ttotal: 56.3s\tremaining: 5.91s\n",
      "199:\tlearn: 1386.9130457\ttotal: 1m 2s\tremaining: 0us\n",
      "RMSE: 1552.5055052764674\n",
      "CPU times: user 1min 2s, sys: 219 ms, total: 1min 3s\n",
      "Wall time: 1min 3s\n"
     ]
    }
   ],
   "source": [
    "%%time\n",
    "\n",
    "model = CatBoostRegressor(cat_features=cat_features,\n",
    "                          loss_function='RMSE',\n",
    "                          **grid_search_result['params'],\n",
    "                          verbose=20,\n",
    "                          thread_count=-1,\n",
    "                          random_seed=91)\n",
    "model.fit(features_train, target_train)\n",
    "pred_valid = model.predict(features_valid)\n",
    "print(f'RMSE: {mean_squared_error(target_valid, pred_valid, squared=False)}')"
   ]
  },
  {
   "cell_type": "markdown",
   "metadata": {},
   "source": [
    "**LightGBM**"
   ]
  },
  {
   "cell_type": "code",
   "execution_count": 44,
   "metadata": {},
   "outputs": [],
   "source": [
    "lgb_model = LGBMRegressor(learning_rate=0.05, max_depth=12, num_leaves=100,\n",
    "                            random_state=91,\n",
    "                            n_jobs=-1)\n",
    "lgb_model.fit(features_train_encoded, target_train)\n",
    "pred_valid = lgb_model.predict(features_valid_encoded)\n"
   ]
  },
  {
   "cell_type": "code",
   "execution_count": 45,
   "metadata": {},
   "outputs": [
    {
     "name": "stdout",
     "output_type": "stream",
     "text": [
      "RMSE: 1692.0954860376758\n"
     ]
    }
   ],
   "source": [
    "print(f'RMSE: {mean_squared_error(target_valid, pred_valid, squared=False)}')"
   ]
  },
  {
   "cell_type": "markdown",
   "metadata": {},
   "source": [
    "По оценке RMSE градиентный бустинг оказывается лучше Linear Regression и Desicion Tree. Посмотрим на анализ скорости работы и качества моделей."
   ]
  },
  {
   "cell_type": "markdown",
   "metadata": {},
   "source": [
    "## Анализ моделей"
   ]
  },
  {
   "cell_type": "markdown",
   "metadata": {},
   "source": [
    "Сравним библиотеки CatBoost и LightGBM\n"
   ]
  },
  {
   "cell_type": "code",
   "execution_count": 46,
   "metadata": {},
   "outputs": [],
   "source": [
    "list_quality = []\n",
    "list_predict = []\n",
    "list_train   = []"
   ]
  },
  {
   "cell_type": "code",
   "execution_count": 47,
   "metadata": {},
   "outputs": [],
   "source": [
    "start = time.time()\n",
    "\n",
    "model = CatBoostRegressor(cat_features=cat_features,\n",
    "                          loss_function='RMSE',\n",
    "                          **grid_search_result['params'],\n",
    "                          silent=True,\n",
    "                          thread_count=-1,\n",
    "                          random_seed=91)\n",
    "model.fit(features_train, target_train)\n",
    "\n",
    "list_train.append(time.time() - start)"
   ]
  },
  {
   "cell_type": "code",
   "execution_count": 48,
   "metadata": {},
   "outputs": [],
   "source": [
    "start = time.time()\n",
    "\n",
    "lgb_model = LGBMRegressor(learning_rate=0.05, max_depth=12, num_leaves=100,\n",
    "                            random_state=91,\n",
    "                            n_jobs=-1)\n",
    "lgb_model.fit(features_train_encoded, target_train)\n",
    "\n",
    "list_train.append(time.time() - start)"
   ]
  },
  {
   "cell_type": "code",
   "execution_count": 49,
   "metadata": {},
   "outputs": [],
   "source": [
    "features_test_encoded = features_test.copy()\n",
    "features_test_encoded[cat_features] = OrdinalEncoder().fit_transform(features_test_encoded[cat_features])"
   ]
  },
  {
   "cell_type": "code",
   "execution_count": 50,
   "metadata": {},
   "outputs": [],
   "source": [
    "start = time.time()\n",
    "\n",
    "pred_catboost = model.predict(features_test)\n",
    "\n",
    "list_predict.append(time.time() - start)"
   ]
  },
  {
   "cell_type": "code",
   "execution_count": 51,
   "metadata": {},
   "outputs": [],
   "source": [
    "start = time.time()\n",
    "\n",
    "pred_lgb = lgb_model.predict(features_test_encoded)\n",
    "\n",
    "list_predict.append(time.time() - start)"
   ]
  },
  {
   "cell_type": "code",
   "execution_count": 52,
   "metadata": {},
   "outputs": [],
   "source": [
    "list_quality.append(mean_squared_error(target_test, pred_catboost, squared=False))"
   ]
  },
  {
   "cell_type": "code",
   "execution_count": 53,
   "metadata": {},
   "outputs": [],
   "source": [
    "list_quality.append(mean_squared_error(target_test, pred_lgb, squared=False))"
   ]
  },
  {
   "cell_type": "code",
   "execution_count": 54,
   "metadata": {},
   "outputs": [
    {
     "data": {
      "text/html": [
       "<div>\n",
       "<style scoped>\n",
       "    .dataframe tbody tr th:only-of-type {\n",
       "        vertical-align: middle;\n",
       "    }\n",
       "\n",
       "    .dataframe tbody tr th {\n",
       "        vertical-align: top;\n",
       "    }\n",
       "\n",
       "    .dataframe thead th {\n",
       "        text-align: right;\n",
       "    }\n",
       "</style>\n",
       "<table border=\"1\" class=\"dataframe\">\n",
       "  <thead>\n",
       "    <tr style=\"text-align: right;\">\n",
       "      <th></th>\n",
       "      <th>CatBoost</th>\n",
       "      <th>LightGBM</th>\n",
       "    </tr>\n",
       "  </thead>\n",
       "  <tbody>\n",
       "    <tr>\n",
       "      <th>Train Time</th>\n",
       "      <td>63.670661</td>\n",
       "      <td>70.902987</td>\n",
       "    </tr>\n",
       "    <tr>\n",
       "      <th>Predict Time</th>\n",
       "      <td>0.200641</td>\n",
       "      <td>0.472510</td>\n",
       "    </tr>\n",
       "    <tr>\n",
       "      <th>RMSE</th>\n",
       "      <td>1558.066796</td>\n",
       "      <td>1691.684654</td>\n",
       "    </tr>\n",
       "  </tbody>\n",
       "</table>\n",
       "</div>"
      ],
      "text/plain": [
       "                 CatBoost     LightGBM\n",
       "Train Time      63.670661    70.902987\n",
       "Predict Time     0.200641     0.472510\n",
       "RMSE          1558.066796  1691.684654"
      ]
     },
     "execution_count": 54,
     "metadata": {},
     "output_type": "execute_result"
    }
   ],
   "source": [
    "pd.DataFrame([list_train, list_predict, list_quality],\n",
    "             index=['Train Time', 'Predict Time', 'RMSE'],\n",
    "             columns=['CatBoost', 'LightGBM'])"
   ]
  },
  {
   "cell_type": "markdown",
   "metadata": {},
   "source": [
    "**Вывод**\n",
    "\n",
    "\n",
    "До обучения моделей были обработаны пропущенные значения и сравнены способы обработки пропущенных значений.\n",
    "Были выявлены и удалены некоторые аномалии в данных.\n",
    "\n",
    "Было проведено сравнение  Desicion Tree и библиотек градиентного бустинга CatBoost и LightGBM\n",
    "\n",
    "Были подобраны наилучшие параметры для CatBoostRegressor и LGBMRegressor\n",
    "\n",
    "Регрессия с помощью библиотек градиентного бустинга позволяет улучшить результат прогноза по сравнению с более простыми алгоритмами, но обучаются они сравнительно дольше.\n",
    "\n",
    "Сравнение библиотеки CatBoost и LightGBM показало, что CatBoost  точнее и быстрее."
   ]
  }
 ],
 "metadata": {
  "ExecuteTimeLog": [
   {
    "duration": 1739,
    "start_time": "2022-04-07T12:00:10.288Z"
   },
   {
    "duration": 736,
    "start_time": "2022-04-07T12:08:56.009Z"
   },
   {
    "duration": 17,
    "start_time": "2022-04-07T12:09:28.035Z"
   },
   {
    "duration": 124,
    "start_time": "2022-04-07T12:09:56.295Z"
   },
   {
    "duration": 126,
    "start_time": "2022-04-07T12:10:32.269Z"
   },
   {
    "duration": 1439,
    "start_time": "2022-04-07T12:11:28.121Z"
   },
   {
    "duration": 736,
    "start_time": "2022-04-07T12:11:29.562Z"
   },
   {
    "duration": 17,
    "start_time": "2022-04-07T12:11:30.300Z"
   },
   {
    "duration": 144,
    "start_time": "2022-04-07T12:11:30.319Z"
   },
   {
    "duration": 286,
    "start_time": "2022-04-07T12:17:10.203Z"
   },
   {
    "duration": 80,
    "start_time": "2022-04-07T12:20:27.943Z"
   },
   {
    "duration": 85,
    "start_time": "2022-04-07T12:20:51.122Z"
   },
   {
    "duration": 130,
    "start_time": "2022-04-07T12:21:12.484Z"
   },
   {
    "duration": 301,
    "start_time": "2022-04-07T12:24:48.516Z"
   },
   {
    "duration": 181,
    "start_time": "2022-04-07T12:25:29.766Z"
   },
   {
    "duration": 226,
    "start_time": "2022-04-07T12:28:42.349Z"
   },
   {
    "duration": 73,
    "start_time": "2022-04-07T12:29:30.892Z"
   },
   {
    "duration": 67,
    "start_time": "2022-04-07T12:31:13.849Z"
   },
   {
    "duration": 21,
    "start_time": "2022-04-07T12:33:48.116Z"
   },
   {
    "duration": 31,
    "start_time": "2022-04-07T12:34:43.552Z"
   },
   {
    "duration": 33,
    "start_time": "2022-04-07T12:41:05.191Z"
   },
   {
    "duration": 32,
    "start_time": "2022-04-07T12:42:02.652Z"
   },
   {
    "duration": 21,
    "start_time": "2022-04-07T12:42:16.105Z"
   },
   {
    "duration": 34,
    "start_time": "2022-04-07T12:43:31.023Z"
   },
   {
    "duration": 40,
    "start_time": "2022-04-07T12:43:51.623Z"
   },
   {
    "duration": 20,
    "start_time": "2022-04-07T12:45:02.036Z"
   },
   {
    "duration": 27,
    "start_time": "2022-04-07T12:45:13.294Z"
   },
   {
    "duration": 36,
    "start_time": "2022-04-07T12:46:32.732Z"
   },
   {
    "duration": 19,
    "start_time": "2022-04-07T12:47:07.306Z"
   },
   {
    "duration": 39,
    "start_time": "2022-04-07T12:47:20.570Z"
   },
   {
    "duration": 19,
    "start_time": "2022-04-07T12:48:23.836Z"
   },
   {
    "duration": 31,
    "start_time": "2022-04-07T12:48:24.081Z"
   },
   {
    "duration": 20,
    "start_time": "2022-04-07T12:48:24.822Z"
   },
   {
    "duration": 87,
    "start_time": "2022-04-07T13:05:49.358Z"
   },
   {
    "duration": 64,
    "start_time": "2022-04-07T13:06:07.018Z"
   },
   {
    "duration": 40,
    "start_time": "2022-04-07T13:08:29.451Z"
   },
   {
    "duration": 2001,
    "start_time": "2022-04-07T13:11:10.845Z"
   },
   {
    "duration": 100,
    "start_time": "2022-04-07T13:12:43.751Z"
   },
   {
    "duration": 63,
    "start_time": "2022-04-07T13:14:30.029Z"
   },
   {
    "duration": 38,
    "start_time": "2022-04-07T13:15:41.550Z"
   },
   {
    "duration": 140,
    "start_time": "2022-04-07T13:16:12.145Z"
   },
   {
    "duration": 56,
    "start_time": "2022-04-07T13:16:28.656Z"
   },
   {
    "duration": 7,
    "start_time": "2022-04-07T13:16:54.036Z"
   },
   {
    "duration": 46,
    "start_time": "2022-04-07T13:17:32.633Z"
   },
   {
    "duration": 11,
    "start_time": "2022-04-07T13:17:49.656Z"
   },
   {
    "duration": 46,
    "start_time": "2022-04-07T13:18:43.232Z"
   },
   {
    "duration": 169,
    "start_time": "2022-04-07T13:18:55.948Z"
   },
   {
    "duration": 49,
    "start_time": "2022-04-07T13:19:56.350Z"
   },
   {
    "duration": 5,
    "start_time": "2022-04-07T13:20:45.787Z"
   },
   {
    "duration": 12,
    "start_time": "2022-04-07T13:20:53.850Z"
   },
   {
    "duration": 51,
    "start_time": "2022-04-07T13:21:31.987Z"
   },
   {
    "duration": 1819,
    "start_time": "2022-04-07T13:26:20.173Z"
   },
   {
    "duration": 882,
    "start_time": "2022-04-07T13:26:21.994Z"
   },
   {
    "duration": 17,
    "start_time": "2022-04-07T13:26:22.877Z"
   },
   {
    "duration": 136,
    "start_time": "2022-04-07T13:26:22.896Z"
   },
   {
    "duration": 296,
    "start_time": "2022-04-07T13:26:23.034Z"
   },
   {
    "duration": 92,
    "start_time": "2022-04-07T13:26:23.332Z"
   },
   {
    "duration": 82,
    "start_time": "2022-04-07T13:26:23.426Z"
   },
   {
    "duration": 83,
    "start_time": "2022-04-07T13:26:23.510Z"
   },
   {
    "duration": 93,
    "start_time": "2022-04-07T13:26:23.594Z"
   },
   {
    "duration": 21,
    "start_time": "2022-04-07T13:26:23.690Z"
   },
   {
    "duration": 33,
    "start_time": "2022-04-07T13:26:23.713Z"
   },
   {
    "duration": 34,
    "start_time": "2022-04-07T13:26:23.748Z"
   },
   {
    "duration": 33,
    "start_time": "2022-04-07T13:26:23.783Z"
   },
   {
    "duration": 60,
    "start_time": "2022-04-07T13:26:23.818Z"
   },
   {
    "duration": 20,
    "start_time": "2022-04-07T13:26:23.880Z"
   },
   {
    "duration": 16,
    "start_time": "2022-04-07T13:26:23.902Z"
   },
   {
    "duration": 47,
    "start_time": "2022-04-07T13:26:23.920Z"
   },
   {
    "duration": 32,
    "start_time": "2022-04-07T13:26:23.969Z"
   },
   {
    "duration": 21,
    "start_time": "2022-04-07T13:26:24.003Z"
   },
   {
    "duration": 56,
    "start_time": "2022-04-07T13:26:24.025Z"
   },
   {
    "duration": 46,
    "start_time": "2022-04-07T13:26:24.083Z"
   },
   {
    "duration": 2960,
    "start_time": "2022-04-07T13:26:24.131Z"
   },
   {
    "duration": 118,
    "start_time": "2022-04-07T13:26:27.093Z"
   },
   {
    "duration": 86,
    "start_time": "2022-04-07T13:26:27.213Z"
   },
   {
    "duration": 34,
    "start_time": "2022-04-07T13:26:27.301Z"
   },
   {
    "duration": 63,
    "start_time": "2022-04-07T13:26:27.337Z"
   },
   {
    "duration": 10,
    "start_time": "2022-04-07T13:26:27.402Z"
   },
   {
    "duration": 57,
    "start_time": "2022-04-07T13:26:27.416Z"
   },
   {
    "duration": 15,
    "start_time": "2022-04-07T13:26:27.475Z"
   },
   {
    "duration": 37,
    "start_time": "2022-04-07T13:26:27.491Z"
   },
   {
    "duration": 280,
    "start_time": "2022-04-07T13:26:27.530Z"
   },
   {
    "duration": 53,
    "start_time": "2022-04-07T13:26:27.811Z"
   },
   {
    "duration": 6,
    "start_time": "2022-04-07T13:26:27.866Z"
   },
   {
    "duration": 18,
    "start_time": "2022-04-07T13:26:27.874Z"
   },
   {
    "duration": 38,
    "start_time": "2022-04-07T13:26:27.894Z"
   },
   {
    "duration": 101,
    "start_time": "2022-04-07T13:27:47.565Z"
   },
   {
    "duration": 7,
    "start_time": "2022-04-07T15:25:42.463Z"
   },
   {
    "duration": 164,
    "start_time": "2022-04-07T15:26:25.935Z"
   },
   {
    "duration": 1579,
    "start_time": "2022-04-07T15:26:53.118Z"
   },
   {
    "duration": 631,
    "start_time": "2022-04-07T15:26:54.699Z"
   },
   {
    "duration": 15,
    "start_time": "2022-04-07T15:26:55.332Z"
   },
   {
    "duration": 112,
    "start_time": "2022-04-07T15:26:55.349Z"
   },
   {
    "duration": 255,
    "start_time": "2022-04-07T15:26:55.463Z"
   },
   {
    "duration": 67,
    "start_time": "2022-04-07T15:26:55.719Z"
   },
   {
    "duration": 70,
    "start_time": "2022-04-07T15:26:55.788Z"
   },
   {
    "duration": 70,
    "start_time": "2022-04-07T15:26:55.860Z"
   },
   {
    "duration": 80,
    "start_time": "2022-04-07T15:26:55.932Z"
   },
   {
    "duration": 32,
    "start_time": "2022-04-07T15:26:56.014Z"
   },
   {
    "duration": 27,
    "start_time": "2022-04-07T15:26:56.047Z"
   },
   {
    "duration": 16,
    "start_time": "2022-04-07T15:26:56.076Z"
   },
   {
    "duration": 43,
    "start_time": "2022-04-07T15:26:56.094Z"
   },
   {
    "duration": 36,
    "start_time": "2022-04-07T15:26:56.139Z"
   },
   {
    "duration": 17,
    "start_time": "2022-04-07T15:26:56.176Z"
   },
   {
    "duration": 13,
    "start_time": "2022-04-07T15:26:56.194Z"
   },
   {
    "duration": 15,
    "start_time": "2022-04-07T15:26:56.230Z"
   },
   {
    "duration": 29,
    "start_time": "2022-04-07T15:26:56.247Z"
   },
   {
    "duration": 16,
    "start_time": "2022-04-07T15:26:56.277Z"
   },
   {
    "duration": 42,
    "start_time": "2022-04-07T15:26:56.294Z"
   },
   {
    "duration": 37,
    "start_time": "2022-04-07T15:26:56.338Z"
   },
   {
    "duration": 1741,
    "start_time": "2022-04-07T15:26:56.377Z"
   },
   {
    "duration": 85,
    "start_time": "2022-04-07T15:26:58.120Z"
   },
   {
    "duration": 59,
    "start_time": "2022-04-07T15:26:58.207Z"
   },
   {
    "duration": 25,
    "start_time": "2022-04-07T15:26:58.268Z"
   },
   {
    "duration": 49,
    "start_time": "2022-04-07T15:26:58.295Z"
   },
   {
    "duration": 7,
    "start_time": "2022-04-07T15:26:58.345Z"
   },
   {
    "duration": 30,
    "start_time": "2022-04-07T15:26:58.355Z"
   },
   {
    "duration": 10,
    "start_time": "2022-04-07T15:26:58.387Z"
   },
   {
    "duration": 56,
    "start_time": "2022-04-07T15:26:58.398Z"
   },
   {
    "duration": 188,
    "start_time": "2022-04-07T15:26:58.456Z"
   },
   {
    "duration": 41,
    "start_time": "2022-04-07T15:26:58.646Z"
   },
   {
    "duration": 6,
    "start_time": "2022-04-07T15:26:58.689Z"
   },
   {
    "duration": 11,
    "start_time": "2022-04-07T15:26:58.696Z"
   },
   {
    "duration": 34,
    "start_time": "2022-04-07T15:26:58.729Z"
   },
   {
    "duration": 114,
    "start_time": "2022-04-07T15:26:58.766Z"
   },
   {
    "duration": 3,
    "start_time": "2022-04-07T15:26:58.882Z"
   },
   {
    "duration": 13396,
    "start_time": "2022-04-07T15:26:58.887Z"
   },
   {
    "duration": 455,
    "start_time": "2022-04-07T15:31:21.774Z"
   },
   {
    "duration": 99,
    "start_time": "2022-04-07T15:31:35.737Z"
   },
   {
    "duration": 150,
    "start_time": "2022-04-07T15:31:55.457Z"
   },
   {
    "duration": 280,
    "start_time": "2022-04-07T15:32:11.598Z"
   },
   {
    "duration": 4,
    "start_time": "2022-04-07T15:33:05.543Z"
   },
   {
    "duration": 565627,
    "start_time": "2022-04-07T15:33:50.756Z"
   },
   {
    "duration": 4,
    "start_time": "2022-04-07T15:43:16.385Z"
   },
   {
    "duration": 60994,
    "start_time": "2022-04-07T15:43:32.447Z"
   },
   {
    "duration": 1333,
    "start_time": "2022-04-07T16:30:31.349Z"
   },
   {
    "duration": 672,
    "start_time": "2022-04-07T16:30:32.684Z"
   },
   {
    "duration": 16,
    "start_time": "2022-04-07T16:30:33.358Z"
   },
   {
    "duration": 126,
    "start_time": "2022-04-07T16:30:33.377Z"
   },
   {
    "duration": 277,
    "start_time": "2022-04-07T16:30:33.505Z"
   },
   {
    "duration": 68,
    "start_time": "2022-04-07T16:30:33.784Z"
   },
   {
    "duration": 62,
    "start_time": "2022-04-07T16:30:33.854Z"
   },
   {
    "duration": 71,
    "start_time": "2022-04-07T16:30:33.918Z"
   },
   {
    "duration": 86,
    "start_time": "2022-04-07T16:30:33.990Z"
   },
   {
    "duration": 20,
    "start_time": "2022-04-07T16:30:34.078Z"
   },
   {
    "duration": 41,
    "start_time": "2022-04-07T16:30:34.099Z"
   },
   {
    "duration": 16,
    "start_time": "2022-04-07T16:30:34.141Z"
   },
   {
    "duration": 28,
    "start_time": "2022-04-07T16:30:34.158Z"
   },
   {
    "duration": 52,
    "start_time": "2022-04-07T16:30:34.187Z"
   },
   {
    "duration": 15,
    "start_time": "2022-04-07T16:30:34.240Z"
   },
   {
    "duration": 12,
    "start_time": "2022-04-07T16:30:34.257Z"
   },
   {
    "duration": 15,
    "start_time": "2022-04-07T16:30:34.271Z"
   },
   {
    "duration": 42,
    "start_time": "2022-04-07T16:30:34.287Z"
   },
   {
    "duration": 16,
    "start_time": "2022-04-07T16:30:34.331Z"
   },
   {
    "duration": 31,
    "start_time": "2022-04-07T16:30:34.348Z"
   },
   {
    "duration": 49,
    "start_time": "2022-04-07T16:30:34.381Z"
   },
   {
    "duration": 1789,
    "start_time": "2022-04-07T16:30:34.431Z"
   },
   {
    "duration": 85,
    "start_time": "2022-04-07T16:30:36.222Z"
   },
   {
    "duration": 64,
    "start_time": "2022-04-07T16:30:36.309Z"
   },
   {
    "duration": 26,
    "start_time": "2022-04-07T16:30:36.374Z"
   },
   {
    "duration": 51,
    "start_time": "2022-04-07T16:30:36.402Z"
   },
   {
    "duration": 7,
    "start_time": "2022-04-07T16:30:36.454Z"
   },
   {
    "duration": 30,
    "start_time": "2022-04-07T16:30:36.464Z"
   },
   {
    "duration": 12,
    "start_time": "2022-04-07T16:30:36.496Z"
   },
   {
    "duration": 48,
    "start_time": "2022-04-07T16:30:36.509Z"
   },
   {
    "duration": 195,
    "start_time": "2022-04-07T16:30:36.559Z"
   },
   {
    "duration": 46,
    "start_time": "2022-04-07T16:30:36.756Z"
   },
   {
    "duration": 5,
    "start_time": "2022-04-07T16:30:36.804Z"
   },
   {
    "duration": 28,
    "start_time": "2022-04-07T16:30:36.810Z"
   },
   {
    "duration": 40,
    "start_time": "2022-04-07T16:30:36.839Z"
   },
   {
    "duration": 119,
    "start_time": "2022-04-07T16:30:36.881Z"
   },
   {
    "duration": 3,
    "start_time": "2022-04-07T16:30:37.002Z"
   },
   {
    "duration": 12068,
    "start_time": "2022-04-07T16:30:37.007Z"
   },
   {
    "duration": 420,
    "start_time": "2022-04-07T16:30:49.077Z"
   },
   {
    "duration": 135,
    "start_time": "2022-04-07T16:30:49.499Z"
   },
   {
    "duration": 384,
    "start_time": "2022-04-07T16:30:49.636Z"
   },
   {
    "duration": 569011,
    "start_time": "2022-04-07T16:30:50.022Z"
   },
   {
    "duration": 4,
    "start_time": "2022-04-07T16:40:19.034Z"
   },
   {
    "duration": 58192,
    "start_time": "2022-04-07T16:40:19.039Z"
   },
   {
    "duration": 1544,
    "start_time": "2022-04-07T17:26:47.910Z"
   },
   {
    "duration": 694,
    "start_time": "2022-04-07T17:26:49.456Z"
   },
   {
    "duration": 16,
    "start_time": "2022-04-07T17:26:50.152Z"
   },
   {
    "duration": 104,
    "start_time": "2022-04-07T17:26:50.170Z"
   },
   {
    "duration": 280,
    "start_time": "2022-04-07T17:26:50.276Z"
   },
   {
    "duration": 63,
    "start_time": "2022-04-07T17:26:50.557Z"
   },
   {
    "duration": 60,
    "start_time": "2022-04-07T17:26:50.629Z"
   },
   {
    "duration": 82,
    "start_time": "2022-04-07T17:26:50.690Z"
   },
   {
    "duration": 82,
    "start_time": "2022-04-07T17:26:50.773Z"
   },
   {
    "duration": 18,
    "start_time": "2022-04-07T17:26:50.856Z"
   },
   {
    "duration": 29,
    "start_time": "2022-04-07T17:26:50.875Z"
   },
   {
    "duration": 28,
    "start_time": "2022-04-07T17:26:50.906Z"
   },
   {
    "duration": 38,
    "start_time": "2022-04-07T17:26:50.936Z"
   },
   {
    "duration": 38,
    "start_time": "2022-04-07T17:26:50.978Z"
   },
   {
    "duration": 23,
    "start_time": "2022-04-07T17:26:51.018Z"
   },
   {
    "duration": 12,
    "start_time": "2022-04-07T17:26:51.043Z"
   },
   {
    "duration": 15,
    "start_time": "2022-04-07T17:26:51.057Z"
   },
   {
    "duration": 26,
    "start_time": "2022-04-07T17:26:51.074Z"
   },
   {
    "duration": 35,
    "start_time": "2022-04-07T17:26:51.102Z"
   },
   {
    "duration": 26,
    "start_time": "2022-04-07T17:26:51.139Z"
   },
   {
    "duration": 44,
    "start_time": "2022-04-07T17:26:51.166Z"
   },
   {
    "duration": 1825,
    "start_time": "2022-04-07T17:26:51.212Z"
   },
   {
    "duration": 79,
    "start_time": "2022-04-07T17:26:53.039Z"
   },
   {
    "duration": 60,
    "start_time": "2022-04-07T17:26:53.120Z"
   },
   {
    "duration": 32,
    "start_time": "2022-04-07T17:26:53.181Z"
   },
   {
    "duration": 36,
    "start_time": "2022-04-07T17:26:53.229Z"
   },
   {
    "duration": 7,
    "start_time": "2022-04-07T17:26:53.267Z"
   },
   {
    "duration": 53,
    "start_time": "2022-04-07T17:26:53.276Z"
   },
   {
    "duration": 14,
    "start_time": "2022-04-07T17:26:53.331Z"
   },
   {
    "duration": 37,
    "start_time": "2022-04-07T17:26:53.346Z"
   },
   {
    "duration": 184,
    "start_time": "2022-04-07T17:26:53.384Z"
   },
   {
    "duration": 44,
    "start_time": "2022-04-07T17:26:53.569Z"
   },
   {
    "duration": 17,
    "start_time": "2022-04-07T17:26:53.615Z"
   },
   {
    "duration": 12,
    "start_time": "2022-04-07T17:26:53.633Z"
   },
   {
    "duration": 39,
    "start_time": "2022-04-07T17:26:53.646Z"
   },
   {
    "duration": 111,
    "start_time": "2022-04-07T17:26:53.687Z"
   },
   {
    "duration": 3,
    "start_time": "2022-04-07T17:26:53.799Z"
   },
   {
    "duration": 13555,
    "start_time": "2022-04-07T17:26:53.803Z"
   },
   {
    "duration": 436,
    "start_time": "2022-04-07T17:27:07.360Z"
   },
   {
    "duration": 133,
    "start_time": "2022-04-07T17:27:07.797Z"
   },
   {
    "duration": 370,
    "start_time": "2022-04-07T17:27:07.934Z"
   },
   {
    "duration": 578569,
    "start_time": "2022-04-07T17:27:08.305Z"
   },
   {
    "duration": 4,
    "start_time": "2022-04-07T17:36:46.876Z"
   },
   {
    "duration": 62695,
    "start_time": "2022-04-07T17:36:46.881Z"
   },
   {
    "duration": 2251770,
    "start_time": "2022-04-07T17:37:49.577Z"
   },
   {
    "duration": 9495,
    "start_time": "2022-04-07T18:15:21.350Z"
   },
   {
    "duration": 3,
    "start_time": "2022-04-07T18:15:30.847Z"
   },
   {
    "duration": 2,
    "start_time": "2022-04-07T18:21:03.942Z"
   },
   {
    "duration": 59028,
    "start_time": "2022-04-07T18:21:39.687Z"
   },
   {
    "duration": 7068,
    "start_time": "2022-04-07T18:22:43.165Z"
   },
   {
    "duration": 119,
    "start_time": "2022-04-07T18:22:59.264Z"
   },
   {
    "duration": 157,
    "start_time": "2022-04-07T18:23:01.083Z"
   },
   {
    "duration": 417,
    "start_time": "2022-04-07T18:23:11.722Z"
   },
   {
    "duration": 3,
    "start_time": "2022-04-07T18:23:23.468Z"
   },
   {
    "duration": 4,
    "start_time": "2022-04-07T18:23:38.887Z"
   },
   {
    "duration": 7,
    "start_time": "2022-04-07T18:23:51.226Z"
   },
   {
    "duration": 2145,
    "start_time": "2022-04-08T14:37:07.536Z"
   },
   {
    "duration": 6194,
    "start_time": "2022-04-08T14:37:09.683Z"
   },
   {
    "duration": 27,
    "start_time": "2022-04-08T14:37:15.879Z"
   },
   {
    "duration": 192,
    "start_time": "2022-04-08T14:37:15.910Z"
   },
   {
    "duration": 427,
    "start_time": "2022-04-08T14:37:16.104Z"
   },
   {
    "duration": 108,
    "start_time": "2022-04-08T14:37:16.534Z"
   },
   {
    "duration": 94,
    "start_time": "2022-04-08T14:37:16.644Z"
   },
   {
    "duration": 106,
    "start_time": "2022-04-08T14:37:16.740Z"
   },
   {
    "duration": 131,
    "start_time": "2022-04-08T14:37:16.848Z"
   },
   {
    "duration": 29,
    "start_time": "2022-04-08T14:37:16.982Z"
   },
   {
    "duration": 67,
    "start_time": "2022-04-08T14:37:17.013Z"
   },
   {
    "duration": 28,
    "start_time": "2022-04-08T14:37:17.082Z"
   },
   {
    "duration": 57,
    "start_time": "2022-04-08T14:37:17.112Z"
   },
   {
    "duration": 59,
    "start_time": "2022-04-08T14:37:17.171Z"
   },
   {
    "duration": 48,
    "start_time": "2022-04-08T14:37:17.233Z"
   },
   {
    "duration": 23,
    "start_time": "2022-04-08T14:37:17.284Z"
   },
   {
    "duration": 27,
    "start_time": "2022-04-08T14:37:17.310Z"
   },
   {
    "duration": 50,
    "start_time": "2022-04-08T14:37:17.368Z"
   },
   {
    "duration": 46,
    "start_time": "2022-04-08T14:37:17.421Z"
   },
   {
    "duration": 50,
    "start_time": "2022-04-08T14:37:17.470Z"
   },
   {
    "duration": 90,
    "start_time": "2022-04-08T14:37:17.523Z"
   },
   {
    "duration": 2750,
    "start_time": "2022-04-08T14:37:17.616Z"
   },
   {
    "duration": 159,
    "start_time": "2022-04-08T14:37:20.369Z"
   },
   {
    "duration": 90,
    "start_time": "2022-04-08T14:37:20.531Z"
   },
   {
    "duration": 55,
    "start_time": "2022-04-08T14:37:20.623Z"
   },
   {
    "duration": 87,
    "start_time": "2022-04-08T14:37:20.681Z"
   },
   {
    "duration": 12,
    "start_time": "2022-04-08T14:37:20.771Z"
   },
   {
    "duration": 79,
    "start_time": "2022-04-08T14:37:20.789Z"
   },
   {
    "duration": 17,
    "start_time": "2022-04-08T14:37:20.870Z"
   },
   {
    "duration": 56,
    "start_time": "2022-04-08T14:37:20.889Z"
   },
   {
    "duration": 319,
    "start_time": "2022-04-08T14:37:20.968Z"
   },
   {
    "duration": 85,
    "start_time": "2022-04-08T14:37:21.289Z"
   },
   {
    "duration": 7,
    "start_time": "2022-04-08T14:37:21.376Z"
   },
   {
    "duration": 18,
    "start_time": "2022-04-08T14:37:21.385Z"
   },
   {
    "duration": 92,
    "start_time": "2022-04-08T14:37:21.406Z"
   },
   {
    "duration": 201,
    "start_time": "2022-04-08T14:37:21.500Z"
   },
   {
    "duration": 4,
    "start_time": "2022-04-08T14:37:21.703Z"
   },
   {
    "duration": 31861,
    "start_time": "2022-04-08T14:37:21.709Z"
   },
   {
    "duration": 705,
    "start_time": "2022-04-08T14:37:53.573Z"
   },
   {
    "duration": 190,
    "start_time": "2022-04-08T14:37:54.280Z"
   },
   {
    "duration": 524,
    "start_time": "2022-04-08T14:37:54.473Z"
   },
   {
    "duration": 1462679,
    "start_time": "2022-04-08T14:37:54.999Z"
   },
   {
    "duration": 6,
    "start_time": "2022-04-08T15:02:17.680Z"
   },
   {
    "duration": 148067,
    "start_time": "2022-04-08T15:02:17.689Z"
   },
   {
    "duration": 17321,
    "start_time": "2022-04-08T15:04:45.759Z"
   },
   {
    "duration": 6,
    "start_time": "2022-04-08T15:05:03.083Z"
   },
   {
    "duration": 78,
    "start_time": "2022-04-08T15:05:03.091Z"
   },
   {
    "duration": 150572,
    "start_time": "2022-04-08T15:05:03.171Z"
   },
   {
    "duration": 51628,
    "start_time": "2022-04-08T15:07:33.745Z"
   },
   {
    "duration": 224,
    "start_time": "2022-04-08T15:08:25.375Z"
   },
   {
    "duration": 251,
    "start_time": "2022-04-08T15:08:25.601Z"
   },
   {
    "duration": 825,
    "start_time": "2022-04-08T15:08:25.855Z"
   },
   {
    "duration": 6,
    "start_time": "2022-04-08T15:08:26.682Z"
   },
   {
    "duration": 78,
    "start_time": "2022-04-08T15:08:26.691Z"
   },
   {
    "duration": 12,
    "start_time": "2022-04-08T15:08:26.771Z"
   },
   {
    "duration": 1702,
    "start_time": "2022-04-09T08:32:17.098Z"
   },
   {
    "duration": 845,
    "start_time": "2022-04-09T08:32:18.802Z"
   },
   {
    "duration": 18,
    "start_time": "2022-04-09T08:32:19.648Z"
   },
   {
    "duration": 150,
    "start_time": "2022-04-09T08:32:19.667Z"
   },
   {
    "duration": 319,
    "start_time": "2022-04-09T08:32:19.819Z"
   },
   {
    "duration": 95,
    "start_time": "2022-04-09T08:32:20.140Z"
   },
   {
    "duration": 87,
    "start_time": "2022-04-09T08:32:20.236Z"
   },
   {
    "duration": 86,
    "start_time": "2022-04-09T08:32:20.325Z"
   },
   {
    "duration": 100,
    "start_time": "2022-04-09T08:32:20.413Z"
   },
   {
    "duration": 22,
    "start_time": "2022-04-09T08:32:20.515Z"
   },
   {
    "duration": 32,
    "start_time": "2022-04-09T08:32:20.539Z"
   },
   {
    "duration": 38,
    "start_time": "2022-04-09T08:32:20.573Z"
   },
   {
    "duration": 35,
    "start_time": "2022-04-09T08:32:20.613Z"
   },
   {
    "duration": 66,
    "start_time": "2022-04-09T08:32:20.652Z"
   },
   {
    "duration": 21,
    "start_time": "2022-04-09T08:32:20.720Z"
   },
   {
    "duration": 17,
    "start_time": "2022-04-09T08:32:20.743Z"
   },
   {
    "duration": 26,
    "start_time": "2022-04-09T08:32:20.761Z"
   },
   {
    "duration": 44,
    "start_time": "2022-04-09T08:32:20.789Z"
   },
   {
    "duration": 21,
    "start_time": "2022-04-09T08:32:20.834Z"
   },
   {
    "duration": 52,
    "start_time": "2022-04-09T08:32:20.857Z"
   },
   {
    "duration": 38,
    "start_time": "2022-04-09T08:32:20.911Z"
   },
   {
    "duration": 2065,
    "start_time": "2022-04-09T08:32:20.950Z"
   },
   {
    "duration": 92,
    "start_time": "2022-04-09T08:32:23.017Z"
   },
   {
    "duration": 62,
    "start_time": "2022-04-09T08:32:23.110Z"
   },
   {
    "duration": 43,
    "start_time": "2022-04-09T08:32:23.174Z"
   },
   {
    "duration": 45,
    "start_time": "2022-04-09T08:32:23.218Z"
   },
   {
    "duration": 7,
    "start_time": "2022-04-09T08:32:23.265Z"
   },
   {
    "duration": 54,
    "start_time": "2022-04-09T08:32:23.274Z"
   },
   {
    "duration": 11,
    "start_time": "2022-04-09T08:32:23.329Z"
   },
   {
    "duration": 34,
    "start_time": "2022-04-09T08:32:23.342Z"
   },
   {
    "duration": 234,
    "start_time": "2022-04-09T08:32:23.378Z"
   },
   {
    "duration": 39,
    "start_time": "2022-04-09T08:32:23.614Z"
   },
   {
    "duration": 5,
    "start_time": "2022-04-09T08:32:23.655Z"
   },
   {
    "duration": 18,
    "start_time": "2022-04-09T08:32:23.661Z"
   },
   {
    "duration": 55,
    "start_time": "2022-04-09T08:32:23.681Z"
   },
   {
    "duration": 105,
    "start_time": "2022-04-09T08:32:23.738Z"
   },
   {
    "duration": 2,
    "start_time": "2022-04-09T08:32:23.845Z"
   },
   {
    "duration": 13679,
    "start_time": "2022-04-09T08:32:23.849Z"
   },
   {
    "duration": 549,
    "start_time": "2022-04-09T08:32:37.530Z"
   },
   {
    "duration": 384,
    "start_time": "2022-04-09T08:32:38.080Z"
   },
   {
    "duration": 644256,
    "start_time": "2022-04-09T08:32:38.468Z"
   },
   {
    "duration": 3,
    "start_time": "2022-04-09T08:43:22.726Z"
   },
   {
    "duration": 63645,
    "start_time": "2022-04-09T08:43:22.731Z"
   },
   {
    "duration": 7342,
    "start_time": "2022-04-09T08:44:26.378Z"
   },
   {
    "duration": 4,
    "start_time": "2022-04-09T08:44:33.722Z"
   },
   {
    "duration": 6,
    "start_time": "2022-04-09T08:44:33.727Z"
   },
   {
    "duration": 63675,
    "start_time": "2022-04-09T08:44:33.735Z"
   },
   {
    "duration": 70906,
    "start_time": "2022-04-09T08:45:37.411Z"
   },
   {
    "duration": 217,
    "start_time": "2022-04-09T08:46:48.319Z"
   },
   {
    "duration": 203,
    "start_time": "2022-04-09T08:46:48.537Z"
   },
   {
    "duration": 475,
    "start_time": "2022-04-09T08:46:48.742Z"
   },
   {
    "duration": 4,
    "start_time": "2022-04-09T08:46:49.219Z"
   },
   {
    "duration": 5,
    "start_time": "2022-04-09T08:46:49.225Z"
   },
   {
    "duration": 79,
    "start_time": "2022-04-09T08:46:49.232Z"
   }
  ],
  "kernelspec": {
   "display_name": "Python 3",
   "language": "python",
   "name": "python3"
  },
  "language_info": {
   "codemirror_mode": {
    "name": "ipython",
    "version": 3
   },
   "file_extension": ".py",
   "mimetype": "text/x-python",
   "name": "python",
   "nbconvert_exporter": "python",
   "pygments_lexer": "ipython3",
   "version": "3.8.8"
  },
  "toc": {
   "base_numbering": 1,
   "nav_menu": {},
   "number_sections": true,
   "sideBar": true,
   "skip_h1_title": true,
   "title_cell": "Table of Contents",
   "title_sidebar": "Contents",
   "toc_cell": false,
   "toc_position": {},
   "toc_section_display": true,
   "toc_window_display": false
  }
 },
 "nbformat": 4,
 "nbformat_minor": 2
}
